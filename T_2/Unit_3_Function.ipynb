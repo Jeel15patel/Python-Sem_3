{
 "cells": [
  {
   "cell_type": "code",
   "execution_count": 9,
   "metadata": {},
   "outputs": [
    {
     "name": "stdout",
     "output_type": "stream",
     "text": [
      "Hello Jeel Good Morning\n",
      "Hello XYZ Good Morning\n"
     ]
    }
   ],
   "source": [
    "# Define a Function\n",
    "def wish(name):\n",
    "    print(\"Hello\",name,\"Good Morning\")\n",
    "wish(\"Jeel\")\n",
    "wish(\"XYZ\")"
   ]
  },
  {
   "cell_type": "markdown",
   "metadata": {},
   "source": []
  },
  {
   "cell_type": "code",
   "execution_count": 10,
   "metadata": {},
   "outputs": [
    {
     "name": "stdout",
     "output_type": "stream",
     "text": [
      "Enter Name :jeel\n",
      "Hello jeel\n"
     ]
    }
   ],
   "source": [
    "# 1 :- No parameter & No Return\n",
    "def printline():\n",
    "    n = input(\"Enter Name :\")\n",
    "    print(\"Hello\",n)\n",
    "printline()"
   ]
  },
  {
   "cell_type": "code",
   "execution_count": 11,
   "metadata": {},
   "outputs": [
    {
     "name": "stdout",
     "output_type": "stream",
     "text": [
      "Enter Name :jeel\n",
      "jeel\n"
     ]
    }
   ],
   "source": [
    "# 2 :- With parameter & No Return\n",
    "def printline(n):\n",
    "    print(n)\n",
    "n = input(\"Enter Name :\")\n",
    "printline(n)"
   ]
  },
  {
   "cell_type": "code",
   "execution_count": 12,
   "metadata": {},
   "outputs": [
    {
     "name": "stdout",
     "output_type": "stream",
     "text": [
      "Enter Name :jeel\n",
      "jeel\n"
     ]
    }
   ],
   "source": [
    "# 3 :- With parameter & With Return\n",
    "def printline(n):\n",
    "    return n\n",
    "n = input(\"Enter Name :\")\n",
    "t = printline(n)\n",
    "print(t)"
   ]
  },
  {
   "cell_type": "code",
   "execution_count": 13,
   "metadata": {},
   "outputs": [
    {
     "name": "stdout",
     "output_type": "stream",
     "text": [
      "Enter Name :jeel\n",
      "jeel\n"
     ]
    }
   ],
   "source": [
    "# 4 :- No parameter & With Return\n",
    "def printline():\n",
    "    n = input(\"Enter Name :\")\n",
    "    return n\n",
    "#t = printline()\n",
    "#print(t)\n",
    "print(printline())"
   ]
  },
  {
   "cell_type": "code",
   "execution_count": 17,
   "metadata": {},
   "outputs": [
    {
     "name": "stdout",
     "output_type": "stream",
     "text": [
      "Enter Number A :10\n",
      "Enter Number B :10\n",
      "The Sum of 10 and 10 is : 20\n"
     ]
    }
   ],
   "source": [
    "# :- ( Addtion ) With parameter & With Return\n",
    "def printline(a, b):\n",
    "    sum = a + b\n",
    "    return sum\n",
    "a = int(input(\"Enter Number A :\"))\n",
    "b = int(input(\"Enter Number B :\"))\n",
    "t = printline(a,b)\n",
    "print(\"The Sum of\",a,\"and\",b,\"is :\",t)"
   ]
  },
  {
   "cell_type": "code",
   "execution_count": 6,
   "metadata": {},
   "outputs": [
    {
     "name": "stdout",
     "output_type": "stream",
     "text": [
      "Enter Number :5\n",
      "5 is Odd Number\n"
     ]
    }
   ],
   "source": [
    "# ( Check ODD and EVEN Number ) With parameter & No Return\n",
    "def check(n):\n",
    "    if(n%2!=0):\n",
    "        print(n ,\"is Odd Number\")\n",
    "    else:\n",
    "        print(n ,\"is Even Number\")\n",
    "n = int(input(\"Enter Number :\"))\n",
    "check(n)"
   ]
  },
  {
   "cell_type": "code",
   "execution_count": 15,
   "metadata": {},
   "outputs": [
    {
     "name": "stdout",
     "output_type": "stream",
     "text": [
      "Enter Number :15\n",
      "1 ODD Number\n",
      "3 ODD Number\n",
      "5 ODD Number\n",
      "7 ODD Number\n",
      "9 ODD Number\n",
      "11 ODD Number\n",
      "13 ODD Number\n",
      "15 ODD Number\n"
     ]
    }
   ],
   "source": [
    "# ( Range of 15 Find ODD Number) With parameter & No Return\n",
    "def odd(n):\n",
    "    for i in range(1,n+1):\n",
    "        if i%2!=0:\n",
    "            print(i,\"ODD Number\")\n",
    "n = int(input(\"Enter Number :\"))\n",
    "odd(n)\n"
   ]
  },
  {
   "cell_type": "code",
   "execution_count": 5,
   "metadata": {},
   "outputs": [
    {
     "name": "stdout",
     "output_type": "stream",
     "text": [
      "Enter Number :153\n",
      "153 Number is Armstrong\n"
     ]
    }
   ],
   "source": [
    "# Armstrong\n",
    "def armstrong(n):\n",
    "    a=n\n",
    "    sum = 0\n",
    "    l = len(str(n))\n",
    "    while a > 0:\n",
    "        digit = a % 10\n",
    "        sum = sum + (digit ** l)\n",
    "        a=a//10\n",
    "    if sum == n:\n",
    "        print(n,\"Number is Armstrong\")\n",
    "    else:\n",
    "        print(n,\"Number is NOT Armstrong\")\n",
    "n = int(input(\"Enter Number :\"))\n",
    "armstrong(n)"
   ]
  },
  {
   "cell_type": "code",
   "execution_count": 12,
   "metadata": {},
   "outputs": [
    {
     "name": "stdout",
     "output_type": "stream",
     "text": [
      "Enter Number A :10\n",
      "Enter Number B :20\n",
      "The Value One\n",
      "200 30 -10 0.5 "
     ]
    }
   ],
   "source": [
    "#\n",
    "def sum_sub(a,b):\n",
    "    mul = a * b\n",
    "    sum = a + b\n",
    "    sub = a - b\n",
    "    div = a / b\n",
    "    return mul,sum,sub,div\n",
    "a = int(input(\"Enter Number A :\"))\n",
    "b = int(input(\"Enter Number B :\"))\n",
    "t = sum_sub(a,b)\n",
    "print(\"The Value One\")\n",
    "for i in t:\n",
    "    print(i,end=\" \")"
   ]
  },
  {
   "cell_type": "code",
   "execution_count": 23,
   "metadata": {},
   "outputs": [
    {
     "name": "stdout",
     "output_type": "stream",
     "text": [
      " Argument Pass into X \n",
      "    output it return squre it \n",
      "Enter Number :2\n"
     ]
    }
   ],
   "source": [
    "# Function Specitication\n",
    "def squre(n):\n",
    "    \"\"\" Argument Pass into X \n",
    "    output it return squre it \"\"\"\n",
    "    return n * n\n",
    "print(squre.__doc__)\n",
    "n = int(input(\"Enter Number :\"))\n",
    "t = squre(n)"
   ]
  },
  {
   "cell_type": "code",
   "execution_count": 24,
   "metadata": {},
   "outputs": [
    {
     "name": "stdout",
     "output_type": "stream",
     "text": [
      "400\n",
      "100\n"
     ]
    }
   ],
   "source": [
    "# Default Argument\n",
    "def squre(q = 10):\n",
    "    print(q * q)\n",
    "squre(20)\n",
    "squre()\n"
   ]
  },
  {
   "cell_type": "code",
   "execution_count": 25,
   "metadata": {},
   "outputs": [
    {
     "name": "stdout",
     "output_type": "stream",
     "text": [
      "Hello Jeel Good Morning\n",
      "Hello Guest Good Morning\n"
     ]
    }
   ],
   "source": [
    "#  Argument\n",
    "def wish(name=\"Guest\"):\n",
    "    print(\"Hello\",name,\"Good Morning\")\n",
    "wish(\"Jeel\")\n",
    "wish()"
   ]
  },
  {
   "cell_type": "code",
   "execution_count": 26,
   "metadata": {},
   "outputs": [
    {
     "name": "stdout",
     "output_type": "stream",
     "text": [
      "-100\n",
      "100\n"
     ]
    }
   ],
   "source": [
    "# Positinal Argument\n",
    "def sub(a,b):\n",
    "    print(a-b)\n",
    "sub(100,200)\n",
    "sub(200,100)"
   ]
  },
  {
   "cell_type": "code",
   "execution_count": 2,
   "metadata": {
    "scrolled": true
   },
   "outputs": [
    {
     "name": "stdout",
     "output_type": "stream",
     "text": [
      "Hello Jeel_1 Good Morning_1\n",
      "Hello Jeel_2 Good Morning_2\n",
      "Hello jeel_3 Good Morning_3\n",
      "Hello Good Morning_4 Jeel_4\n"
     ]
    }
   ],
   "source": [
    "# Keyword Argument           \n",
    "def wish(name,msg):\n",
    "    print(\"Hello\",name,msg)\n",
    "wish(name=\"Jeel_1\",msg=\"Good Morning_1\")\n",
    "wish(msg=\"Good Morning_2\",name=\"Jeel_2\")\n",
    "wish(\"jeel_3\",\"Good Morning_3\")\n",
    "wish(\"Good Morning_4\",\"Jeel_4\")\n",
    "#wish(name=\"Jeel_5\",\"Good Morning_5\") ( Show Error )"
   ]
  },
  {
   "cell_type": "code",
   "execution_count": 6,
   "metadata": {},
   "outputs": [
    {
     "name": "stdout",
     "output_type": "stream",
     "text": [
      "The Sum 30\n",
      "The Sum 150\n"
     ]
    }
   ],
   "source": [
    "# Variable length Argument\n",
    "def sum(*n):\n",
    "    total=0\n",
    "    for n1 in n:\n",
    "        total+=n1\n",
    "    print(\"The Sum\",total)\n",
    "sum(10,20)\n",
    "sum(10,20,30,40,50)"
   ]
  },
  {
   "cell_type": "code",
   "execution_count": 15,
   "metadata": {
    "scrolled": false
   },
   "outputs": [
    {
     "name": "stdout",
     "output_type": "stream",
     "text": [
      "10\n",
      "10\n",
      "20\n",
      "30\n",
      "40\n",
      "10\n",
      "^\n",
      "20\n",
      "30\n"
     ]
    }
   ],
   "source": [
    "def f1(n1,*s):\n",
    "    print(n1)\n",
    "    for s1 in s:\n",
    "        print(s1)\n",
    "f1(10)\n",
    "f1(10,20,30,40)\n",
    "f1(10,\"^\",20,30)"
   ]
  },
  {
   "cell_type": "code",
   "execution_count": null,
   "metadata": {},
   "outputs": [],
   "source": [
    "# *args :- Without Key Word Argument\n",
    "\n",
    "# **args :- Key Value Argument"
   ]
  },
  {
   "cell_type": "code",
   "execution_count": 25,
   "metadata": {},
   "outputs": [
    {
     "name": "stdout",
     "output_type": "stream",
     "text": [
      "first = Jeel\n",
      "mid = B\n",
      "last = Patel\n"
     ]
    }
   ],
   "source": [
    "# **args :- Key Value Argument\n",
    "def fun(**a):\n",
    "    for key,value in a.items():\n",
    "        print(key,\"=\",value)\n",
    "fun(first=\"Jeel\",mid=\"B\",last=\"Patel\")"
   ]
  },
  {
   "cell_type": "code",
   "execution_count": 29,
   "metadata": {},
   "outputs": [
    {
     "name": "stdout",
     "output_type": "stream",
     "text": [
      "25\n",
      "3\n"
     ]
    }
   ],
   "source": [
    "# Global & Local Variable\n",
    "\n",
    "x = 3\n",
    "def fun(a):\n",
    "    #global x (consider as a global variable (5))\n",
    "    x = 5\n",
    "    return x*a\n",
    "print(fun(5))\n",
    "print(x)"
   ]
  },
  {
   "cell_type": "code",
   "execution_count": null,
   "metadata": {},
   "outputs": [],
   "source": [
    "# 1 :- Fareinheat to Celecus // 2 :- Celecus to Fareinheat: (Using DEF Function)\n",
    "\n",
    "def fra(): # Celecus to Fareinheat\n",
    "    c = float(input(\"Enter The value of Celecus: \"))\n",
    "    x = (9/5)*c+32\n",
    "    print(\"The Fareinheat is\",x)\n",
    "    \n",
    "def cel(): # Fareinheat to Celecus\n",
    "    f = float(input(\"Enter The value of Fareinheat: \"))\n",
    "    x = (f-32)+(5/9)\n",
    "    print(\"The Celecus is\",x)\n",
    "\n",
    "cho = int(input(\"1 :- Fareinheat to Celecus // 2 :- Celecus to Fareinheat: \"))\n",
    "if cho == 1:\n",
    "    fra()\n",
    "elif cho == 2:\n",
    "    cel()\n",
    "else:\n",
    "    print(\"Select proper Choice\")"
   ]
  },
  {
   "cell_type": "code",
   "execution_count": 13,
   "metadata": {},
   "outputs": [
    {
     "name": "stdout",
     "output_type": "stream",
     "text": [
      "Enter The Number: 10\n",
      "10 * 9 * 8 * 7 * 6 * 5 * 4 * 3 * 2 * 1 * = 3628800\n"
     ]
    }
   ],
   "source": [
    "# Factorial Number (Using DEF Function)\n",
    "\n",
    "def fact():\n",
    "    fac=1\n",
    "    for i in range(a,0,-1):\n",
    "        fac = fac * i\n",
    "        print(i,end=\" * \")\n",
    "    print(\"=\",fac)\n",
    "\n",
    "a = int(input(\"Enter The Number: \"))\n",
    "if a > 0:\n",
    "    fact()\n",
    "else:\n",
    "    print(\"Enter The Positive Number\")"
   ]
  },
  {
   "cell_type": "code",
   "execution_count": 19,
   "metadata": {},
   "outputs": [
    {
     "name": "stdout",
     "output_type": "stream",
     "text": [
      "Enter Number: 5\n",
      "Enter Start Number: 1\n",
      "Enter End Number: 10\n",
      "YES\n"
     ]
    }
   ],
   "source": [
    "n = int(input(\"Enter Check Number: \"))\n",
    "s = int(input(\"Enter Start Number: \"))\n",
    "e = int(input(\"Enter End Number: \"))\n",
    "def nse():\n",
    "    if n<=e and n>=s:\n",
    "        print(\"YES\")\n",
    "    else:\n",
    "        print(\"NO\")\n",
    "nse()"
   ]
  },
  {
   "cell_type": "code",
   "execution_count": 1,
   "metadata": {},
   "outputs": [
    {
     "name": "stdout",
     "output_type": "stream",
     "text": [
      "1 :- ( + ) \n",
      " 2 :- ( - ) \n",
      " 3 :- ( * ) \n",
      " 4 :- ( \\ ) \n",
      " 5 :- ( \\ ) \n",
      " 6 :- ( % ) \n",
      " 7 :- ( ** ) :- 7\n",
      "Enter The value of A: 2\n",
      "Enter The value of B: 3\n",
      "The Add of 2 and 3 is  8\n"
     ]
    }
   ],
   "source": [
    "def add(): # +\n",
    "    a = int(input(\"Enter The value of A: \"))\n",
    "    b = int(input(\"Enter The value of B: \"))\n",
    "    sum = a + b\n",
    "    print(\"The Add of\",a,\"and\",b,\"is \",sum)\n",
    "    \n",
    "def sub(): # -\n",
    "    a = int(input(\"Enter The value of A: \"))\n",
    "    b = int(input(\"Enter The value of B: \"))\n",
    "    sum = a - b\n",
    "    print(\"The Add of\",a,\"and\",b,\"is \",sum)\n",
    "     \n",
    "def mul(): # *\n",
    "    a = int(input(\"Enter The value of A: \"))\n",
    "    b = int(input(\"Enter The value of B: \"))\n",
    "    sum = a * b\n",
    "    print(\"The Add of\",a,\"and\",b,\"is \",sum)\n",
    "    \n",
    "def div(): # /\n",
    "    a = int(input(\"Enter The value of A: \"))\n",
    "    b = int(input(\"Enter The value of B: \"))\n",
    "    sum = a / b\n",
    "    print(\"The Add of\",a,\"and\",b,\"is \",sum)\n",
    "    \n",
    "def flodiv(): # //\n",
    "    a = int(input(\"Enter The value of A: \"))\n",
    "    b = int(input(\"Enter The value of B: \"))\n",
    "    sum = a - b\n",
    "    print(\"The Add of\",a,\"and\",b,\"is \",sum)\n",
    "    \n",
    "def mod(): # %\n",
    "    a = int(input(\"Enter The value of A: \"))\n",
    "    b = int(input(\"Enter The value of B: \"))\n",
    "    sum = a % b\n",
    "    print(\"The Add of\",a,\"and\",b,\"is \",sum)\n",
    "    \n",
    "def exo(): # **\n",
    "    a = int(input(\"Enter The value of A: \"))\n",
    "    b = int(input(\"Enter The value of B: \"))\n",
    "    sum = a ** b\n",
    "    print(\"The Add of\",a,\"and\",b,\"is \",sum)\n",
    "    \n",
    "cho = int(input(\"1 :- ( + ) \\n 2 :- ( - ) \\n 3 :- ( * ) \\n 4 :- ( \\ ) \\n 5 :- ( \\\\ ) \\n 6 :- ( % ) \\n 7 :- ( ** ) :- \"))\n",
    "if cho == 1:\n",
    "    add()\n",
    "elif cho == 2:\n",
    "    sub()\n",
    "elif cho == 3:\n",
    "    mul()\n",
    "elif cho == 4:\n",
    "    div()\n",
    "elif cho == 5:\n",
    "    foldiv()\n",
    "elif cho == 6:\n",
    "    mod()\n",
    "elif cho == 7:\n",
    "    exo()\n",
    "else:\n",
    "    print(\"Select proper Choice\")"
   ]
  },
  {
   "cell_type": "code",
   "execution_count": null,
   "metadata": {},
   "outputs": [],
   "source": []
  },
  {
   "cell_type": "code",
   "execution_count": null,
   "metadata": {},
   "outputs": [],
   "source": []
  },
  {
   "cell_type": "code",
   "execution_count": null,
   "metadata": {},
   "outputs": [],
   "source": []
  },
  {
   "cell_type": "code",
   "execution_count": null,
   "metadata": {},
   "outputs": [],
   "source": []
  },
  {
   "cell_type": "code",
   "execution_count": null,
   "metadata": {},
   "outputs": [],
   "source": []
  },
  {
   "cell_type": "code",
   "execution_count": null,
   "metadata": {},
   "outputs": [],
   "source": []
  },
  {
   "cell_type": "code",
   "execution_count": null,
   "metadata": {},
   "outputs": [],
   "source": []
  }
 ],
 "metadata": {
  "kernelspec": {
   "display_name": "Python 3",
   "language": "python",
   "name": "python3"
  },
  "language_info": {
   "codemirror_mode": {
    "name": "ipython",
    "version": 3
   },
   "file_extension": ".py",
   "mimetype": "text/x-python",
   "name": "python",
   "nbconvert_exporter": "python",
   "pygments_lexer": "ipython3",
   "version": "3.10.9 (tags/v3.10.9:1dd9be6, Dec  6 2022, 20:01:21) [MSC v.1934 64 bit (AMD64)]"
  },
  "vscode": {
   "interpreter": {
    "hash": "5576747debf951a4018453eb75d974e871b724caded3098f47b67f7ba4c00e7f"
   }
  }
 },
 "nbformat": 4,
 "nbformat_minor": 4
}
