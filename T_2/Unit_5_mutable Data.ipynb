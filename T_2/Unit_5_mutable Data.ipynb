{
 "cells": [
  {
   "cell_type": "code",
   "execution_count": null,
   "metadata": {},
   "outputs": [],
   "source": [
    "# List = Denoted :- [ ] "
   ]
  },
  {
   "cell_type": "code",
   "execution_count": 3,
   "metadata": {},
   "outputs": [
    {
     "name": "stdout",
     "output_type": "stream",
     "text": [
      "[10, 15, 20, 25, 30, 35, 40, 45]\n"
     ]
    }
   ],
   "source": [
    "l = list(range(10,50,5))\n",
    "print(l)"
   ]
  },
  {
   "cell_type": "code",
   "execution_count": 23,
   "metadata": {},
   "outputs": [
    {
     "name": "stdout",
     "output_type": "stream",
     "text": [
      "['Learning', 'Python', 'is', 'Easy']\n",
      "Learning\n",
      "Python\n",
      "is\n",
      "Easy\n"
     ]
    }
   ],
   "source": [
    "s = \"Learning Python is Easy\"\n",
    "r = s.split()\n",
    "print(r)\n",
    "for i in r:\n",
    "    print(i)"
   ]
  },
  {
   "cell_type": "code",
   "execution_count": 36,
   "metadata": {},
   "outputs": [
    {
     "name": "stdout",
     "output_type": "stream",
     "text": [
      "20\n",
      "40\n",
      "10\n"
     ]
    },
    {
     "ename": "IndexError",
     "evalue": "list index out of range",
     "output_type": "error",
     "traceback": [
      "\u001b[1;31m---------------------------------------------------------------------------\u001b[0m",
      "\u001b[1;31mIndexError\u001b[0m                                Traceback (most recent call last)",
      "\u001b[1;32m<ipython-input-36-36e4173e7f70>\u001b[0m in \u001b[0;36m<module>\u001b[1;34m\u001b[0m\n\u001b[0;32m      3\u001b[0m \u001b[0mprint\u001b[0m\u001b[1;33m(\u001b[0m\u001b[0mn\u001b[0m\u001b[1;33m[\u001b[0m\u001b[1;33m-\u001b[0m\u001b[1;36m1\u001b[0m\u001b[1;33m]\u001b[0m\u001b[1;33m)\u001b[0m\u001b[1;33m\u001b[0m\u001b[1;33m\u001b[0m\u001b[0m\n\u001b[0;32m      4\u001b[0m \u001b[0mprint\u001b[0m\u001b[1;33m(\u001b[0m\u001b[0mn\u001b[0m\u001b[1;33m[\u001b[0m\u001b[1;36m0\u001b[0m\u001b[1;33m]\u001b[0m\u001b[1;33m)\u001b[0m\u001b[1;33m\u001b[0m\u001b[1;33m\u001b[0m\u001b[0m\n\u001b[1;32m----> 5\u001b[1;33m \u001b[0mprint\u001b[0m\u001b[1;33m(\u001b[0m\u001b[0mn\u001b[0m\u001b[1;33m[\u001b[0m\u001b[1;36m10\u001b[0m\u001b[1;33m]\u001b[0m\u001b[1;33m)\u001b[0m\u001b[1;33m\u001b[0m\u001b[1;33m\u001b[0m\u001b[0m\n\u001b[0m",
      "\u001b[1;31mIndexError\u001b[0m: list index out of range"
     ]
    }
   ],
   "source": [
    "n = [10,20,30,40]\n",
    "print(n[1])\n",
    "print(n[-1])\n",
    "print(n[0])\n",
    "print(n[10])\n"
   ]
  },
  {
   "cell_type": "code",
   "execution_count": 44,
   "metadata": {},
   "outputs": [
    {
     "name": "stdout",
     "output_type": "stream",
     "text": [
      "[3, 5, 7]\n",
      "[5, 7, 9]\n",
      "[4, 5, 6, 7]\n",
      "[9, 7, 5]\n",
      "[10, 9, 8, 7, 6, 5, 4, 3]\n",
      "[10, 9, 8, 7, 6, 5, 4, 3, 2, 1]\n"
     ]
    }
   ],
   "source": [
    "# slid\n",
    "n = [1,2,3,4,5,6,7,8,9,10]\n",
    "print(n[2:7:2])\n",
    "print(n[4: :2])\n",
    "print(n[3:7])\n",
    "print(n[8:2:-2])\n",
    "print(n[100:1:-1])\n",
    "print(n[100: :-1])"
   ]
  },
  {
   "cell_type": "code",
   "execution_count": 1,
   "metadata": {},
   "outputs": [
    {
     "name": "stdout",
     "output_type": "stream",
     "text": [
      "1\n",
      "2\n",
      "3\n",
      "4\n",
      "5\n",
      "6\n",
      "7\n",
      "8\n",
      "9\n",
      "10\n"
     ]
    }
   ],
   "source": [
    "n = [1,2,3,4,5,6,7,8,9,10]\n",
    "i = 0\n",
    "while i < len(n):\n",
    "    print(n[i])\n",
    "    i+=1"
   ]
  },
  {
   "cell_type": "code",
   "execution_count": 4,
   "metadata": {},
   "outputs": [
    {
     "name": "stdout",
     "output_type": "stream",
     "text": [
      "1\n",
      "2\n",
      "3\n",
      "4\n",
      "5\n",
      "6\n",
      "7\n",
      "8\n",
      "9\n",
      "10\n"
     ]
    }
   ],
   "source": [
    "n = [1,2,3,4,5,6,7,8,9,10]\n",
    "for i in range(len(n)):\n",
    "    print(n[i])"
   ]
  },
  {
   "cell_type": "code",
   "execution_count": 6,
   "metadata": {},
   "outputs": [
    {
     "name": "stdout",
     "output_type": "stream",
     "text": [
      "1\n",
      "2\n",
      "3\n",
      "4\n",
      "5\n",
      "6\n",
      "7\n",
      "8\n",
      "9\n",
      "10\n"
     ]
    }
   ],
   "source": [
    "n = [1,2,3,4,5,6,7,8,9,10]\n",
    "for i in n:\n",
    "    print(\n",
    "        i)"
   ]
  },
  {
   "cell_type": "code",
   "execution_count": 12,
   "metadata": {},
   "outputs": [
    {
     "name": "stdout",
     "output_type": "stream",
     "text": [
      "Count 2\n",
      "Index 3\n"
     ]
    }
   ],
   "source": [
    "# IMP Function\n",
    "\n",
    "# count \n",
    "n = [1,2,2,3,3,3]\n",
    "print(\"Count\",n.count(2))\n",
    "print(\"Index\",n.index(3))"
   ]
  },
  {
   "cell_type": "code",
   "execution_count": 18,
   "metadata": {},
   "outputs": [
    {
     "name": "stdout",
     "output_type": "stream",
     "text": [
      "[1, 2, 3, 4, 5, 10]\n"
     ]
    }
   ],
   "source": [
    "# append\n",
    "\n",
    "n = [1,2,3,4,5]\n",
    "n.append(10)\n",
    "print(n)"
   ]
  },
  {
   "cell_type": "code",
   "execution_count": 24,
   "metadata": {},
   "outputs": [
    {
     "name": "stdout",
     "output_type": "stream",
     "text": [
      "[1, 30, 2, 3, 4, 5]\n",
      "[1, 2, 3, 4, 5, 30]\n",
      "[30, 1, 2, 3, 4, 5]\n"
     ]
    }
   ],
   "source": [
    "# insert\n",
    "\n",
    "n = [1,2,3,4,5]\n",
    "n.insert(1,30)\n",
    "print(n) \n",
    "\n",
    "n1 = [1,2,3,4,5]\n",
    "n1.insert(10,30)\n",
    "print(n1)\n",
    "\n",
    "n3 = [1,2,3,4,5]\n",
    "n3.insert(-10,30)\n",
    "print(n3)"
   ]
  },
  {
   "cell_type": "code",
   "execution_count": 25,
   "metadata": {},
   "outputs": [
    {
     "name": "stdout",
     "output_type": "stream",
     "text": [
      "['Jeel', 'Patel', 'Cse', 'Sem 3']\n",
      "['Cse', 'Sem 3']\n"
     ]
    }
   ],
   "source": [
    "# extend\n",
    "\n",
    "l1 = [\"Jeel\",\"Patel\"]\n",
    "l2 = [\"Cse\",\"Sem 3\"]\n",
    "l1.extend(l2)\n",
    "print(l1)\n",
    "print(l2)"
   ]
  },
  {
   "cell_type": "code",
   "execution_count": 33,
   "metadata": {},
   "outputs": [
    {
     "name": "stdout",
     "output_type": "stream",
     "text": [
      "[32, 'Patel', 'Sem 3']\n",
      "('Sem 3',)\n"
     ]
    }
   ],
   "source": [
    "l1 = [32,\"Patel\"]\n",
    "l2 = (\"Sem 3\",)\n",
    "l1.extend(l2)\n",
    "print(l1)\n",
    "print(l2)"
   ]
  },
  {
   "cell_type": "code",
   "execution_count": 50,
   "metadata": {},
   "outputs": [
    {
     "name": "stdout",
     "output_type": "stream",
     "text": [
      "[1, 2, 'patel', 1, 5, 'jeel']\n"
     ]
    }
   ],
   "source": [
    "# Remove\n",
    "\n",
    "n = [1,2,3,\"patel\",1,5,\"jeel\"]\n",
    "n.remove(n[2])\n",
    "print(n)"
   ]
  },
  {
   "cell_type": "code",
   "execution_count": 53,
   "metadata": {},
   "outputs": [
    {
     "name": "stdout",
     "output_type": "stream",
     "text": [
      "5\n",
      "Pop_1 [1, 2, 3, 4]\n",
      "4\n",
      "Pop_2 [1, 2, 3]\n"
     ]
    }
   ],
   "source": [
    "# POP\n",
    "\n",
    "n = [1,2,3,4,5]\n",
    "print(n.pop())\n",
    "print(\"Pop_1\",n)\n",
    "print(n.pop())\n",
    "print(\"Pop_2\",n)"
   ]
  },
  {
   "cell_type": "code",
   "execution_count": 56,
   "metadata": {},
   "outputs": [
    {
     "name": "stdout",
     "output_type": "stream",
     "text": [
      "1\n"
     ]
    },
    {
     "ename": "IndexError",
     "evalue": "pop from empty list",
     "output_type": "error",
     "traceback": [
      "\u001b[1;31m---------------------------------------------------------------------------\u001b[0m",
      "\u001b[1;31mIndexError\u001b[0m                                Traceback (most recent call last)",
      "\u001b[1;32m<ipython-input-56-6eece3f00624>\u001b[0m in \u001b[0;36m<module>\u001b[1;34m\u001b[0m\n\u001b[0;32m      1\u001b[0m \u001b[0mn\u001b[0m \u001b[1;33m=\u001b[0m \u001b[1;33m[\u001b[0m\u001b[1;36m1\u001b[0m\u001b[1;33m]\u001b[0m\u001b[1;33m\u001b[0m\u001b[1;33m\u001b[0m\u001b[0m\n\u001b[0;32m      2\u001b[0m \u001b[0mprint\u001b[0m\u001b[1;33m(\u001b[0m\u001b[0mn\u001b[0m\u001b[1;33m.\u001b[0m\u001b[0mpop\u001b[0m\u001b[1;33m(\u001b[0m\u001b[1;33m)\u001b[0m\u001b[1;33m)\u001b[0m\u001b[1;33m\u001b[0m\u001b[1;33m\u001b[0m\u001b[0m\n\u001b[1;32m----> 3\u001b[1;33m \u001b[0mprint\u001b[0m\u001b[1;33m(\u001b[0m\u001b[0mn\u001b[0m\u001b[1;33m.\u001b[0m\u001b[0mpop\u001b[0m\u001b[1;33m(\u001b[0m\u001b[1;33m)\u001b[0m\u001b[1;33m)\u001b[0m\u001b[1;33m\u001b[0m\u001b[1;33m\u001b[0m\u001b[0m\n\u001b[0m",
      "\u001b[1;31mIndexError\u001b[0m: pop from empty list"
     ]
    }
   ],
   "source": [
    "n = [1]\n",
    "print(n.pop())\n",
    "print(n.pop())\n"
   ]
  },
  {
   "cell_type": "code",
   "execution_count": 64,
   "metadata": {},
   "outputs": [
    {
     "name": "stdout",
     "output_type": "stream",
     "text": [
      "10\n",
      "2\n"
     ]
    },
    {
     "ename": "IndexError",
     "evalue": "pop index out of range",
     "output_type": "error",
     "traceback": [
      "\u001b[1;31m---------------------------------------------------------------------------\u001b[0m",
      "\u001b[1;31mIndexError\u001b[0m                                Traceback (most recent call last)",
      "\u001b[1;32m<ipython-input-64-7079187759a2>\u001b[0m in \u001b[0;36m<module>\u001b[1;34m\u001b[0m\n\u001b[0;32m      2\u001b[0m \u001b[0mprint\u001b[0m\u001b[1;33m(\u001b[0m\u001b[0mn\u001b[0m\u001b[1;33m.\u001b[0m\u001b[0mpop\u001b[0m\u001b[1;33m(\u001b[0m\u001b[1;33m)\u001b[0m\u001b[1;33m)\u001b[0m\u001b[1;33m\u001b[0m\u001b[1;33m\u001b[0m\u001b[0m\n\u001b[0;32m      3\u001b[0m \u001b[0mprint\u001b[0m\u001b[1;33m(\u001b[0m\u001b[0mn\u001b[0m\u001b[1;33m.\u001b[0m\u001b[0mpop\u001b[0m\u001b[1;33m(\u001b[0m\u001b[1;36m1\u001b[0m\u001b[1;33m)\u001b[0m\u001b[1;33m)\u001b[0m\u001b[1;33m\u001b[0m\u001b[1;33m\u001b[0m\u001b[0m\n\u001b[1;32m----> 4\u001b[1;33m \u001b[0mprint\u001b[0m\u001b[1;33m(\u001b[0m\u001b[0mn\u001b[0m\u001b[1;33m.\u001b[0m\u001b[0mpop\u001b[0m\u001b[1;33m(\u001b[0m\u001b[1;36m10\u001b[0m\u001b[1;33m)\u001b[0m\u001b[1;33m)\u001b[0m\u001b[1;33m\u001b[0m\u001b[1;33m\u001b[0m\u001b[0m\n\u001b[0m",
      "\u001b[1;31mIndexError\u001b[0m: pop index out of range"
     ]
    }
   ],
   "source": [
    "n = [1,2,3,4,5,6,7,8,9,10]\n",
    "print(n.pop())\n",
    "print(n.pop(1))\n",
    "print(n.pop(10))"
   ]
  },
  {
   "cell_type": "code",
   "execution_count": 67,
   "metadata": {},
   "outputs": [
    {
     "name": "stdout",
     "output_type": "stream",
     "text": [
      "[]\n"
     ]
    }
   ],
   "source": [
    "# clears\n",
    "\n",
    "n = [1,2,3,4,5]\n",
    "n.clear()\n",
    "print(n)"
   ]
  },
  {
   "cell_type": "code",
   "execution_count": 72,
   "metadata": {},
   "outputs": [
    {
     "name": "stdout",
     "output_type": "stream",
     "text": [
      "[4, 3, 2, 1]\n",
      "[4, 3, 2, 1]\n",
      "[1, 2, 3, 4]\n"
     ]
    }
   ],
   "source": [
    "# reverse :- Origanl Valvu are change.\n",
    "n1 = [1,2,3,4]\n",
    "n1.reverse()\n",
    "print(n1)\n",
    "\n",
    "# reversed :- Origanl Valvu are Not change.\n",
    "n2 = [1,2,3,4]\n",
    "print(list(reversed(n2)))\n",
    "print(n2)"
   ]
  },
  {
   "cell_type": "code",
   "execution_count": 74,
   "metadata": {},
   "outputs": [
    {
     "name": "stdout",
     "output_type": "stream",
     "text": [
      "[1, 2, 3, 4, 6, 7]\n"
     ]
    }
   ],
   "source": [
    "# Sort :- Origanl Valvu are change.\n",
    "# Sorted :- Origanl Valvu are Not change.\n",
    "\n",
    "n = [1,3,2,6,4,7]\n",
    "n.sort()\n",
    "print(n)\n"
   ]
  },
  {
   "cell_type": "code",
   "execution_count": 80,
   "metadata": {},
   "outputs": [
    {
     "name": "stdout",
     "output_type": "stream",
     "text": [
      "[9, 7, 5, 5, 3, 2]\n"
     ]
    }
   ],
   "source": [
    "a = [3,7,5,2,9,5,]\n",
    "a.sort(reverse=True)\n",
    "print(a)"
   ]
  },
  {
   "cell_type": "code",
   "execution_count": 81,
   "metadata": {},
   "outputs": [],
   "source": [
    "# Mathematical Function"
   ]
  },
  {
   "cell_type": "code",
   "execution_count": 83,
   "metadata": {},
   "outputs": [
    {
     "name": "stdout",
     "output_type": "stream",
     "text": [
      "[1, 2, 3, 4, 5, 6]\n"
     ]
    }
   ],
   "source": [
    "a = [1,2,3]\n",
    "b = [4,5,6]\n",
    "c = a+b\n",
    "print(c)"
   ]
  },
  {
   "cell_type": "code",
   "execution_count": 84,
   "metadata": {},
   "outputs": [
    {
     "name": "stdout",
     "output_type": "stream",
     "text": [
      "[1, 2, 3, 4]\n"
     ]
    }
   ],
   "source": [
    "a = [1,2,3]\n",
    "b = a+[4]\n",
    "print(b)"
   ]
  },
  {
   "cell_type": "code",
   "execution_count": 85,
   "metadata": {},
   "outputs": [
    {
     "name": "stdout",
     "output_type": "stream",
     "text": [
      "[1, 2, 3, 1, 2, 3, 1, 2, 3]\n"
     ]
    }
   ],
   "source": [
    "a = [1,2,3]\n",
    "b = a*3\n",
    "print(b)"
   ]
  },
  {
   "cell_type": "code",
   "execution_count": null,
   "metadata": {},
   "outputs": [],
   "source": [
    "# Compaisom Op"
   ]
  },
  {
   "cell_type": "code",
   "execution_count": 87,
   "metadata": {},
   "outputs": [
    {
     "name": "stdout",
     "output_type": "stream",
     "text": [
      "True\n",
      "False\n",
      "False\n"
     ]
    }
   ],
   "source": [
    "x = [\"Dog\",\"Cat\",\"Rat\"]\n",
    "y = [\"Dog\",\"Cat\",\"Rat\"]\n",
    "z = [\"DOG\",\"CAT\",\"RAT\"]\n",
    "\n",
    "print(x==y)\n",
    "print(x==z)\n",
    "print(z==y)\n"
   ]
  },
  {
   "cell_type": "code",
   "execution_count": 89,
   "metadata": {},
   "outputs": [
    {
     "name": "stdout",
     "output_type": "stream",
     "text": [
      "True\n",
      "True\n",
      "False\n",
      "False\n"
     ]
    }
   ],
   "source": [
    "x = [50,20,30]\n",
    "y = [40,50,60,100,20]\n",
    "print(x>y)\n",
    "print(x>=y)\n",
    "print(x<y)\n",
    "print(x<=y)"
   ]
  },
  {
   "cell_type": "code",
   "execution_count": 91,
   "metadata": {},
   "outputs": [
    {
     "name": "stdout",
     "output_type": "stream",
     "text": [
      "False\n",
      "False\n",
      "True\n",
      "True\n"
     ]
    }
   ],
   "source": [
    "x = [\"Dog\",\"Cat\",\"Rat\"]\n",
    "y = [\"Rat\",\"Cat\",\"Dog\"]\n",
    "print(x>y)\n",
    "print(x>=y)\n",
    "print(x<y)\n",
    "print(x<=y)"
   ]
  },
  {
   "cell_type": "code",
   "execution_count": null,
   "metadata": {},
   "outputs": [],
   "source": [
    "# Member Ship ( IN , NOT IN)"
   ]
  },
  {
   "cell_type": "code",
   "execution_count": 92,
   "metadata": {},
   "outputs": [
    {
     "name": "stdout",
     "output_type": "stream",
     "text": [
      "True\n",
      "False\n",
      "False\n"
     ]
    }
   ],
   "source": [
    "n = [10,20,30,40]\n",
    "print(10 in n)\n",
    "print(10 not in n)\n",
    "print(50 in n)"
   ]
  },
  {
   "cell_type": "code",
   "execution_count": 107,
   "metadata": {},
   "outputs": [
    {
     "name": "stdout",
     "output_type": "stream",
     "text": [
      "[10, 72, 30, 40, 50]\n",
      "[10, 20, 30, 40, 50]\n",
      "2545489741760\n",
      "2545489739968\n"
     ]
    }
   ],
   "source": [
    "x = [10,20,30,40,50]\n",
    "#y = x.copy()\n",
    "y = x[:]\n",
    "y[1] = 72\n",
    "print(y)\n",
    "print(x)\n",
    "print(id(x))\n",
    "print(id(y))"
   ]
  },
  {
   "cell_type": "code",
   "execution_count": null,
   "metadata": {},
   "outputs": [],
   "source": [
    "# Nested List\n",
    "# n = [10,20,[30,40]]\n",
    "\n",
    "# to acces the nested list we use [ 2 index ][In 2 index : start index]"
   ]
  },
  {
   "cell_type": "code",
   "execution_count": 2,
   "metadata": {},
   "outputs": [
    {
     "name": "stdout",
     "output_type": "stream",
     "text": [
      "10\n",
      "20\n",
      "[30, 40]\n",
      "30\n",
      "40\n"
     ]
    }
   ],
   "source": [
    "n = [10,20,[30,40]]\n",
    "print(n[0])\n",
    "print(n[1])\n",
    "print(n[2])\n",
    "print(n[2][0])\n",
    "print(n[2][1])"
   ]
  },
  {
   "cell_type": "code",
   "execution_count": 10,
   "metadata": {},
   "outputs": [
    {
     "name": "stdout",
     "output_type": "stream",
     "text": [
      "10\n",
      "20\n",
      "30\n",
      "[40, 50, 60, 70, [80, 90, 100]]\n",
      "40\n",
      "50\n",
      "60\n",
      "[80, 90, 100]\n",
      "80\n",
      "90\n",
      "100\n"
     ]
    }
   ],
   "source": [
    "n = [10,20,30,[40,50,60,70,[80,90,100]]]\n",
    "print(n[0])\n",
    "print(n[1])\n",
    "print(n[2])\n",
    "print(n[3])\n",
    "print(n[3][0])\n",
    "print(n[3][1])\n",
    "print(n[3][2])\n",
    "print(n[3][4])\n",
    "print(n[3][4][0])\n",
    "print(n[3][4][1])\n",
    "print(n[3][4][2])"
   ]
  },
  {
   "cell_type": "code",
   "execution_count": 16,
   "metadata": {},
   "outputs": [
    {
     "name": "stdout",
     "output_type": "stream",
     "text": [
      "10 20 30 \n",
      "40 50 60 \n",
      "70 80 90 \n"
     ]
    }
   ],
   "source": [
    "n = [[10,20,30],[40,50,60],[70,80,90]]\n",
    "for i in range(len(n)):\n",
    "    for j in range(len(n[i])):\n",
    "        print(n[i][j],end=\" \")\n",
    "    print()"
   ]
  },
  {
   "cell_type": "code",
   "execution_count": 27,
   "metadata": {},
   "outputs": [
    {
     "name": "stdout",
     "output_type": "stream",
     "text": [
      "[1, 4, 9, 16, 25, 36, 49, 64, 81, 100]\n",
      "[2, 4, 8, 16, 32]\n",
      "[4, 16, 36, 64, 100]\n"
     ]
    }
   ],
   "source": [
    "# list Com\n",
    "\n",
    "#list = [ expenstion for item in list it condistion ]\n",
    "\n",
    "s = [x*x for x in range(1,11)]\n",
    "print(s)\n",
    "\n",
    "s1 = [2**x for x in range(1,6)]\n",
    "print(s1)\n",
    "\n",
    "d = [ x for x in s if x%2==0]\n",
    "print(d)\n"
   ]
  },
  {
   "cell_type": "code",
   "execution_count": 32,
   "metadata": {},
   "outputs": [
    {
     "name": "stdout",
     "output_type": "stream",
     "text": [
      "{4: 'hello', 1: 'Jeel', 2: 'B', 3: 'Patel'}\n"
     ]
    }
   ],
   "source": [
    "# Dictionary :-  [key = value]\n",
    "\n",
    "d = { 4:\"hello\" }\n",
    "d[1] = \"Jeel\"\n",
    "d[2] = \"B\"\n",
    "d[3] = \"Patel\"\n",
    "print(d)"
   ]
  },
  {
   "cell_type": "code",
   "execution_count": 45,
   "metadata": {},
   "outputs": [
    {
     "name": "stdout",
     "output_type": "stream",
     "text": [
      "B\n"
     ]
    }
   ],
   "source": [
    "d = { 1:\"Jeel\" , 2:\"B\" , 3:\"Patel\" }\n",
    "print(d[2])\n",
    "if 40 in d:\n",
    "    print(d[40])"
   ]
  },
  {
   "cell_type": "code",
   "execution_count": 52,
   "metadata": {},
   "outputs": [
    {
     "name": "stdout",
     "output_type": "stream",
     "text": [
      "{1: 'Jeel', 2: 'B', 3: 'Patel', 4: 'Hello'}\n",
      "{1: 'Jeel', 2: 'hey', 3: 'Patel', 4: 'Hello'}\n",
      "{1: 'Jeel', 3: 'Patel', 4: 'Hello'}\n"
     ]
    }
   ],
   "source": [
    "d = { 1:\"Jeel\" , 2:\"B\" , 3:\"Patel\" }\n",
    "d[4] = \"Hello\"\n",
    "print(d) # Addd\n",
    "d[2] = \"hey\"\n",
    "print(d) # Update\n",
    "del d[2]\n",
    "print(d) # Delet"
   ]
  },
  {
   "cell_type": "code",
   "execution_count": 54,
   "metadata": {},
   "outputs": [
    {
     "name": "stdout",
     "output_type": "stream",
     "text": [
      "{}\n"
     ]
    },
    {
     "ename": "NameError",
     "evalue": "name 'd' is not defined",
     "output_type": "error",
     "traceback": [
      "\u001b[1;31m---------------------------------------------------------------------------\u001b[0m",
      "\u001b[1;31mNameError\u001b[0m                                 Traceback (most recent call last)",
      "\u001b[1;32m<ipython-input-54-21d2aa68d66d>\u001b[0m in \u001b[0;36m<module>\u001b[1;34m\u001b[0m\n\u001b[0;32m      5\u001b[0m \u001b[1;33m\u001b[0m\u001b[0m\n\u001b[0;32m      6\u001b[0m \u001b[1;32mdel\u001b[0m \u001b[0md\u001b[0m\u001b[1;33m\u001b[0m\u001b[1;33m\u001b[0m\u001b[0m\n\u001b[1;32m----> 7\u001b[1;33m \u001b[0mprint\u001b[0m\u001b[1;33m(\u001b[0m\u001b[0md\u001b[0m\u001b[1;33m)\u001b[0m\u001b[1;33m\u001b[0m\u001b[1;33m\u001b[0m\u001b[0m\n\u001b[0m",
      "\u001b[1;31mNameError\u001b[0m: name 'd' is not defined"
     ]
    }
   ],
   "source": [
    "d = { 1:\"Jeel\" , 2:\"B\" , 3:\"Patel\" }\n",
    "\n",
    "d.clear() # inner data clear\n",
    "print(d)\n",
    "\n",
    "del d  # ful Dictionary delet\n",
    "print(d)"
   ]
  },
  {
   "cell_type": "code",
   "execution_count": 63,
   "metadata": {},
   "outputs": [
    {
     "name": "stdout",
     "output_type": "stream",
     "text": [
      "{10: 'A', 20: 'B', 30: 'C', 40: 'D', 50: 'C1', 60: 'D1'}\n",
      "6\n"
     ]
    }
   ],
   "source": [
    "d = dict([ (10,\"A\"),(20,\"B\"),(30,\"C\"),(40,\"D\"),(50,\"C1\"),(60,\"D1\") ])\n",
    "x = len(d)\n",
    "print(d)\n",
    "print(x)"
   ]
  },
  {
   "cell_type": "code",
   "execution_count": 64,
   "metadata": {},
   "outputs": [
    {
     "name": "stdout",
     "output_type": "stream",
     "text": [
      "{1: 'Jeel', 2: 'B', 3: 'Patel'}\n"
     ]
    }
   ],
   "source": [
    "# .copy()\n",
    "\n",
    "d = { 1:\"Jeel\" , 2:\"B\" , 3:\"Patel\" }\n",
    "d1 = d.copy()\n",
    "print(d1)"
   ]
  },
  {
   "cell_type": "code",
   "execution_count": 65,
   "metadata": {},
   "outputs": [
    {
     "name": "stdout",
     "output_type": "stream",
     "text": [
      "{1: 'Jeel', 2: 'B', 3: 'Patel', 4: 'hello'}\n"
     ]
    }
   ],
   "source": [
    "# Update\n",
    "\n",
    "d = { 1:\"Jeel\" , 2:\"B\" , 3:\"Patel\" }\n",
    "x = { 4:\"hello\" }\n",
    "d.update(x)\n",
    "print(d)"
   ]
  },
  {
   "cell_type": "code",
   "execution_count": 70,
   "metadata": {},
   "outputs": [
    {
     "name": "stdout",
     "output_type": "stream",
     "text": [
      "Jeel\n",
      "B\n",
      "None\n",
      "Jeel\n",
      "Guest\n"
     ]
    }
   ],
   "source": [
    "d = { 1:\"Jeel\" , 2:\"B\" , 3:\"Patel\" }\n",
    "print(d[1])\n",
    "print(d.get(2))\n",
    "print(d.get(4))\n",
    "print(d.get(1,\"Guest\"))\n",
    "print(d.get(4,\"Guest\"))"
   ]
  },
  {
   "cell_type": "code",
   "execution_count": 75,
   "metadata": {},
   "outputs": [
    {
     "name": "stdout",
     "output_type": "stream",
     "text": [
      "(3, 'Patel')\n"
     ]
    }
   ],
   "source": [
    "d = { 1:\"Jeel\" , 2:\"B\" , 3:\"Patel\" }\n",
    "print(d.popitem())"
   ]
  },
  {
   "cell_type": "code",
   "execution_count": 101,
   "metadata": {},
   "outputs": [
    {
     "name": "stdout",
     "output_type": "stream",
     "text": [
      "dict_keys([1, 2, 3])\n",
      "1\n",
      "2\n",
      "3\n",
      "dict_values(['Jeel', 'B', 'Patel'])\n",
      "Jeel\n",
      "B\n",
      "Patel\n"
     ]
    }
   ],
   "source": [
    "d = { 1:\"Jeel\" , 2:\"B\" , 3:\"Patel\" }\n",
    "print(d.keys())\n",
    "for i in d.keys():\n",
    "    print(i)\n",
    "    \n",
    "print(d.values())\n",
    "for i in d.values():\n",
    "    print(i)"
   ]
  },
  {
   "cell_type": "code",
   "execution_count": 109,
   "metadata": {},
   "outputs": [
    {
     "name": "stdout",
     "output_type": "stream",
     "text": [
      "1 -> Jeel\n",
      "2 -> B\n",
      "3 -> Patel\n"
     ]
    }
   ],
   "source": [
    "d = { 1:\"Jeel\" , 2:\"B\" , 3:\"Patel\" }\n",
    "for k,v in d.items():\n",
    "    print(k,\"->\",v)"
   ]
  },
  {
   "cell_type": "code",
   "execution_count": 111,
   "metadata": {},
   "outputs": [
    {
     "name": "stdout",
     "output_type": "stream",
     "text": [
      "Hello\n",
      "{1: 'Jeel', 2: 'B', 3: 'Patel', 4: 'Hello'}\n",
      "B\n",
      "{1: 'Jeel', 2: 'B', 3: 'Patel', 4: 'Hello'}\n"
     ]
    }
   ],
   "source": [
    "d = { 1:\"Jeel\" , 2:\"B\" , 3:\"Patel\" }\n",
    "print(d.setdefault(4,\"Hello\")) # it will add new value\n",
    "print(d)\n",
    "print(d.setdefault(2,\"R\")) # old value will print\n",
    "print(d)"
   ]
  },
  {
   "cell_type": "code",
   "execution_count": null,
   "metadata": {},
   "outputs": [],
   "source": [
    "# set :- {  } :- \n",
    "# :- Duplicate not allowes\n",
    "# :- Index and slicing not allowes\n",
    "# :- { } with comma seprate \n",
    "# :- Union , dreffent , sum_differnt , interrection"
   ]
  },
  {
   "cell_type": "code",
   "execution_count": 112,
   "metadata": {},
   "outputs": [
    {
     "name": "stdout",
     "output_type": "stream",
     "text": [
      "{0, 40, 10, 20, 30}\n"
     ]
    }
   ],
   "source": [
    "s = {10,10,0,20,30,40,40,40}\n",
    "print(s)"
   ]
  },
  {
   "cell_type": "code",
   "execution_count": 115,
   "metadata": {},
   "outputs": [
    {
     "name": "stdout",
     "output_type": "stream",
     "text": [
      "{40, 10, 50, 20, 30}\n"
     ]
    }
   ],
   "source": [
    "l = [10,20,30,20,30,30,20,40,50]\n",
    "s = set(l)\n",
    "print(s)"
   ]
  },
  {
   "cell_type": "code",
   "execution_count": 116,
   "metadata": {},
   "outputs": [
    {
     "name": "stdout",
     "output_type": "stream",
     "text": [
      "{1, 2, 3, 4, 5, 6, 7, 8, 9}\n"
     ]
    }
   ],
   "source": [
    "s = set(range(1,10))\n",
    "print(s)"
   ]
  },
  {
   "cell_type": "code",
   "execution_count": 119,
   "metadata": {},
   "outputs": [
    {
     "name": "stdout",
     "output_type": "stream",
     "text": [
      "<class 'set'>\n"
     ]
    }
   ],
   "source": [
    "s = {}\n",
    "s = set()\n",
    "print(type(s))"
   ]
  },
  {
   "cell_type": "code",
   "execution_count": 123,
   "metadata": {},
   "outputs": [
    {
     "name": "stdout",
     "output_type": "stream",
     "text": [
      "{40, 10, 80, 50, 20, 60, 30}\n",
      "{40, 10, 80, 50, 20, 60, 30}\n"
     ]
    }
   ],
   "source": [
    "# Maths Opration :- [1 : Unions ]\n",
    "x = {10,20,30,40,50}\n",
    "y = {60,30,80,40,10}\n",
    "print(x.union(y))\n",
    "print(x|y)"
   ]
  },
  {
   "cell_type": "code",
   "execution_count": 126,
   "metadata": {},
   "outputs": [
    {
     "name": "stdout",
     "output_type": "stream",
     "text": [
      "{40, 10, 50, 30}\n",
      "{40, 10, 50, 30}\n"
     ]
    }
   ],
   "source": [
    "# Maths Opration :- [2 : Intersection ]\n",
    "x = {10,20,30,40,50}\n",
    "y = {60,30,50,40,10}\n",
    "print(x.intersection(y))\n",
    "print(x&y)"
   ]
  },
  {
   "cell_type": "code",
   "execution_count": 129,
   "metadata": {},
   "outputs": [
    {
     "name": "stdout",
     "output_type": "stream",
     "text": [
      "{20}\n",
      "{20}\n"
     ]
    }
   ],
   "source": [
    "# Maths Opration :- [3 : Difference ]\n",
    "x = {10,20,30,40,50} # element present in x but not in y\n",
    "y = {60,30,50,40,10}\n",
    "print(x.difference(y))\n",
    "print(x-y)"
   ]
  },
  {
   "cell_type": "code",
   "execution_count": 133,
   "metadata": {},
   "outputs": [
    {
     "name": "stdout",
     "output_type": "stream",
     "text": [
      "{20, 60}\n"
     ]
    }
   ],
   "source": [
    "# Maths Opration :- [4 : symmetric_difference  ]\n",
    "x = {10,20,30,40,50} # print the value elemnt in are not same in X,Y\n",
    "y = {60,30,50,40,10}\n",
    "print(x.symmetric_difference(y))"
   ]
  },
  {
   "cell_type": "code",
   "execution_count": 136,
   "metadata": {},
   "outputs": [
    {
     "name": "stdout",
     "output_type": "stream",
     "text": [
      "{40, 10, 50, 20, 30}\n"
     ]
    }
   ],
   "source": [
    "# Add()\n",
    "\n",
    "s = {10,20,30,40}\n",
    "s.add(50)\n",
    "print(s)"
   ]
  },
  {
   "cell_type": "code",
   "execution_count": 140,
   "metadata": {},
   "outputs": [
    {
     "name": "stdout",
     "output_type": "stream",
     "text": [
      "{0, 1, 2, 3, 4, 10, 20, 30, 40, 50, 60}\n"
     ]
    }
   ],
   "source": [
    "# Update()\n",
    "\n",
    "s = {10,20,30}\n",
    "l = {40,50,60}\n",
    "s.update(l,range(5))\n",
    "print(s)"
   ]
  },
  {
   "cell_type": "code",
   "execution_count": 141,
   "metadata": {},
   "outputs": [
    {
     "name": "stdout",
     "output_type": "stream",
     "text": [
      "{10, 20, 30}\n"
     ]
    }
   ],
   "source": [
    "# copy()\n",
    "\n",
    "x = {10,20,30}\n",
    "y = x.copy()\n",
    "print(y)"
   ]
  },
  {
   "cell_type": "code",
   "execution_count": 145,
   "metadata": {},
   "outputs": [
    {
     "name": "stdout",
     "output_type": "stream",
     "text": [
      "{10, 20, 30}\n",
      "POP  10\n",
      "{20, 30}\n"
     ]
    }
   ],
   "source": [
    "# pop()\n",
    "\n",
    "x = {10,20,30}\n",
    "print(x)\n",
    "print(\"POP \",x.pop())\n",
    "print(x)"
   ]
  },
  {
   "cell_type": "code",
   "execution_count": 160,
   "metadata": {},
   "outputs": [
    {
     "name": "stdout",
     "output_type": "stream",
     "text": [
      "{40, 10, 30}\n",
      "------\n",
      "{40, 10}\n"
     ]
    }
   ],
   "source": [
    "# Remove   &   # Discard\n",
    "\n",
    "s = {10,20,30,40}\n",
    "s.remove(20)\n",
    "# s.remove(50) show:-error\n",
    "print(s)\n",
    "print(\"------\")\n",
    "s.discard(30)\n",
    "s.discard(50)\n",
    "print(s)"
   ]
  },
  {
   "cell_type": "code",
   "execution_count": 169,
   "metadata": {},
   "outputs": [
    {
     "name": "stdout",
     "output_type": "stream",
     "text": [
      "{0, 1, 4, 9, 16}\n",
      "{16, 256, 64, 4}\n",
      "---------------------------\n",
      "{1: 1, 2: 4, 3: 9, 4: 16, 5: 25}\n",
      "{1: 2, 2: 4, 3: 6, 4: 8, 5: 10}\n"
     ]
    }
   ],
   "source": [
    "# SET\n",
    "\n",
    "s1 = { x*x for x in range(5)}\n",
    "print(s1)\n",
    "\n",
    "s2 = { 2**x for x in range(2,10,2)}\n",
    "print(s2)\n",
    "\n",
    "print(\"---------------------------\")\n",
    "\n",
    "# DICT \n",
    "\n",
    "squre = { x: x*x for x in range(1,6) }\n",
    "print(squre)\n",
    "\n",
    "doubble = {x: 2*x for x in range(1,6)}\n",
    "print(doubble)\n",
    "\n"
   ]
  },
  {
   "cell_type": "code",
   "execution_count": 1,
   "metadata": {},
   "outputs": [
    {
     "name": "stdout",
     "output_type": "stream",
     "text": [
      "True\n"
     ]
    }
   ],
   "source": [
    "x = {\"a\",\"b\",\"c\"}\n",
    "y = {\"c\",\"d\",\"e\",\"f\",\"a\",\"b\",}\n",
    "x = x.issubset(y)\n",
    "print(x)"
   ]
  },
  {
   "cell_type": "code",
   "execution_count": 5,
   "metadata": {},
   "outputs": [
    {
     "name": "stdout",
     "output_type": "stream",
     "text": [
      "True\n",
      "False\n",
      "True\n",
      "False\n"
     ]
    }
   ],
   "source": [
    "#issubset()\n",
    "\n",
    "a = {1,2,3,4,5}\n",
    "b = {1,2,3}\n",
    "c = {1,2,3,4}\n",
    "print(a.issuperset(b))\n",
    "print(b.issuperset(a))\n",
    "print(c.issuperset(b))\n",
    "print(b.issuperset(c))"
   ]
  },
  {
   "cell_type": "code",
   "execution_count": 6,
   "metadata": {},
   "outputs": [
    {
     "name": "stdout",
     "output_type": "stream",
     "text": [
      "The Squre of : 16\n"
     ]
    }
   ],
   "source": [
    "# Lambda function\n",
    "\n",
    "s = lambda n:n*n\n",
    "print(\"The Squre of :\",s(4))"
   ]
  },
  {
   "cell_type": "code",
   "execution_count": 7,
   "metadata": {},
   "outputs": [
    {
     "name": "stdout",
     "output_type": "stream",
     "text": [
      "The sum : 30\n"
     ]
    }
   ],
   "source": [
    "s = lambda a,b:a+b\n",
    "print(\"The sum :\",s(15,15))"
   ]
  },
  {
   "cell_type": "code",
   "execution_count": 16,
   "metadata": {},
   "outputs": [
    {
     "name": "stdout",
     "output_type": "stream",
     "text": [
      "The Max is : 653\n"
     ]
    }
   ],
   "source": [
    "max = lambda a,b: a if (a>b) else b\n",
    "print(\"The Max is :\",max(653,356))"
   ]
  },
  {
   "cell_type": "code",
   "execution_count": null,
   "metadata": {},
   "outputs": [],
   "source": [
    "# Lambda fuction :- \n",
    "# 1 :- map function :- map(function,sequence)\n",
    "# 2 :- Reduce :- used to reduct sequren into one element\n",
    "# 3 :- filter :- filter value from gives sequence based on condition"
   ]
  },
  {
   "cell_type": "code",
   "execution_count": 22,
   "metadata": {},
   "outputs": [
    {
     "name": "stdout",
     "output_type": "stream",
     "text": [
      "[2, 4, 6, 8, 10]\n"
     ]
    }
   ],
   "source": [
    "# 1 :- map function :- map(function,sequence)\n",
    "\n",
    "l = [1,2,3,4,5]\n",
    "li = list(map(lambda x:2*x,l))\n",
    "print(li)\n"
   ]
  },
  {
   "cell_type": "code",
   "execution_count": 33,
   "metadata": {},
   "outputs": [
    {
     "name": "stdout",
     "output_type": "stream",
     "text": [
      "150\n",
      "12000000\n",
      "50\n"
     ]
    }
   ],
   "source": [
    "# 2 :- Reduce :- used to reduct sequren into one element\n",
    "\n",
    "from functools import *\n",
    "\n",
    "l = [10,20,30,40,50]\n",
    "\n",
    "sum = reduce(lambda x,y:x+y,l)\n",
    "print(sum)\n",
    "\n",
    "mul = reduce(lambda x,y:x*y,l)\n",
    "print(mul)\n",
    "\n",
    "max = reduce(lambda a,b: a if (a>b) else b,l)\n",
    "print(max)"
   ]
  },
  {
   "cell_type": "code",
   "execution_count": 35,
   "metadata": {},
   "outputs": [
    {
     "name": "stdout",
     "output_type": "stream",
     "text": [
      "[2, 4, 6, 8, 0]\n"
     ]
    }
   ],
   "source": [
    "# 3 :- filter :- filter value from gives sequence based on condition\n",
    "\n",
    "def iseven(x):\n",
    "    if x%2==0:\n",
    "        return True\n",
    "    else:\n",
    "        return False\n",
    "l = [1,2,3,4,5,6,7,8,9,0]\n",
    "li = list(filter(iseven,l))\n",
    "print(li)"
   ]
  },
  {
   "cell_type": "code",
   "execution_count": 71,
   "metadata": {},
   "outputs": [
    {
     "name": "stdout",
     "output_type": "stream",
     "text": [
      "[2, 4, 6, 8, 0]\n"
     ]
    }
   ],
   "source": [
    "l = [1,2,3,4,5,6,7,8,9,0]\n",
    "li = list(filter(lambda a:a%2==0,l))\n",
    "print(li)"
   ]
  },
  {
   "cell_type": "code",
   "execution_count": 77,
   "metadata": {},
   "outputs": [
    {
     "name": "stdout",
     "output_type": "stream",
     "text": [
      "15\n"
     ]
    }
   ],
   "source": [
    "sum=0\n",
    "list = [1,2,3,4,5]\n",
    "for i in list:\n",
    "    sum=sum+i\n",
    "print(sum)"
   ]
  },
  {
   "cell_type": "code",
   "execution_count": 5,
   "metadata": {},
   "outputs": [
    {
     "name": "stdout",
     "output_type": "stream",
     "text": [
      "[190, 78]\n"
     ]
    }
   ],
   "source": [
    "from functools import *\n",
    "l = [190,140,237,462,123,78]\n",
    "x = list(filter(lambda x:True if x%13==0 or x%19==0 else False,l))\n",
    "print(x)"
   ]
  },
  {
   "cell_type": "code",
   "execution_count": 10,
   "metadata": {},
   "outputs": [
    {
     "name": "stdout",
     "output_type": "stream",
     "text": [
      "['One', 'Nation,', 'One', 'India,', 'One', 'Bharat']\n",
      "{'One': 3, 'Nation,': 1, 'India,': 1, 'Bharat': 1}\n"
     ]
    }
   ],
   "source": [
    "a = \"One Nation, One India, One Bharat\"\n",
    "x= a.split()\n",
    "print(x)\n",
    "d = {b:x.count(b) for b in x}\n",
    "print(d)"
   ]
  },
  {
   "cell_type": "code",
   "execution_count": null,
   "metadata": {},
   "outputs": [],
   "source": []
  },
  {
   "cell_type": "code",
   "execution_count": null,
   "metadata": {},
   "outputs": [],
   "source": []
  },
  {
   "cell_type": "code",
   "execution_count": null,
   "metadata": {},
   "outputs": [],
   "source": []
  },
  {
   "cell_type": "code",
   "execution_count": null,
   "metadata": {},
   "outputs": [],
   "source": []
  },
  {
   "cell_type": "code",
   "execution_count": null,
   "metadata": {},
   "outputs": [],
   "source": []
  },
  {
   "cell_type": "code",
   "execution_count": null,
   "metadata": {},
   "outputs": [],
   "source": []
  },
  {
   "cell_type": "code",
   "execution_count": null,
   "metadata": {},
   "outputs": [],
   "source": []
  },
  {
   "cell_type": "code",
   "execution_count": null,
   "metadata": {},
   "outputs": [],
   "source": []
  },
  {
   "cell_type": "code",
   "execution_count": null,
   "metadata": {},
   "outputs": [],
   "source": []
  },
  {
   "cell_type": "code",
   "execution_count": null,
   "metadata": {},
   "outputs": [],
   "source": []
  },
  {
   "cell_type": "code",
   "execution_count": null,
   "metadata": {},
   "outputs": [],
   "source": []
  },
  {
   "cell_type": "code",
   "execution_count": null,
   "metadata": {},
   "outputs": [],
   "source": []
  },
  {
   "cell_type": "code",
   "execution_count": null,
   "metadata": {},
   "outputs": [],
   "source": []
  },
  {
   "cell_type": "code",
   "execution_count": null,
   "metadata": {},
   "outputs": [],
   "source": [
    "from functools import *\n",
    "#list = [11,5,17,18,23]\n",
    "\n",
    "l = [12,45,67,89,123]\n",
    "\n",
    "even = list(filter(lambda x:True if x%2==0 else False,l))\n",
    "leven(reduce(lambda x,y: x if x>y else y , even ))\n",
    "seven(reduce(lambda x,y: x if x<y else y , even ))\n",
    "odd = list(filter(lambda x:True if (x%2==0) else False,l))"
   ]
  }
 ],
 "metadata": {
  "kernelspec": {
   "display_name": "Python 3",
   "language": "python",
   "name": "python3"
  },
  "language_info": {
   "codemirror_mode": {
    "name": "ipython",
    "version": 3
   },
   "file_extension": ".py",
   "mimetype": "text/x-python",
   "name": "python",
   "nbconvert_exporter": "python",
   "pygments_lexer": "ipython3",
   "version": "3.10.9 (tags/v3.10.9:1dd9be6, Dec  6 2022, 20:01:21) [MSC v.1934 64 bit (AMD64)]"
  },
  "vscode": {
   "interpreter": {
    "hash": "5576747debf951a4018453eb75d974e871b724caded3098f47b67f7ba4c00e7f"
   }
  }
 },
 "nbformat": 4,
 "nbformat_minor": 4
}
