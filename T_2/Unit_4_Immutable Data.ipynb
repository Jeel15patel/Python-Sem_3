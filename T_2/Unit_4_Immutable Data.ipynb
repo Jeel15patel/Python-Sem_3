{
 "cells": [
  {
   "cell_type": "code",
   "execution_count": 1,
   "metadata": {},
   "outputs": [],
   "source": [
    "# Tuple :- Denote = ( ) :- Round Brack :- Immutable Data\n",
    "\n",
    "# Strint :-  Text :- Immutable Data\n",
    "\n",
    "# List :- Denote = [ ] :- Square Brack :- Mutable Data\n",
    "\n",
    "# Slice :- s[begin:end:step]"
   ]
  },
  {
   "cell_type": "code",
   "execution_count": 1,
   "metadata": {},
   "outputs": [
    {
     "name": "stdout",
     "output_type": "stream",
     "text": [
      "p\n",
      "10\n"
     ]
    }
   ],
   "source": [
    "s = \"Jeel patel\"\n",
    "a = len(s)\n",
    "print(s[5])\n",
    "print(a)"
   ]
  },
  {
   "cell_type": "code",
   "execution_count": 11,
   "metadata": {},
   "outputs": [
    {
     "name": "stdout",
     "output_type": "stream",
     "text": [
      "t\n"
     ]
    }
   ],
   "source": [
    "s = \"Jeel patel\"\n",
    "print(s[-3])"
   ]
  },
  {
   "cell_type": "code",
   "execution_count": 9,
   "metadata": {},
   "outputs": [
    {
     "name": "stdout",
     "output_type": "stream",
     "text": [
      "letaP leeJ\n",
      "e\n"
     ]
    }
   ],
   "source": [
    "# Slice :- s[begin:end:step]\n",
    "\n",
    "t = \"Jeel Patel\"\n",
    "print(t[::-1])\n",
    "print(t[1:2])"
   ]
  },
  {
   "cell_type": "code",
   "execution_count": 13,
   "metadata": {
    "scrolled": true
   },
   "outputs": [
    {
     "name": "stdout",
     "output_type": "stream",
     "text": [
      "earnin\n",
      "eri\n",
      "Learnin\n",
      "Python is Easy\n",
      "Learning Python is Easy\n",
      "Le\n",
      "Learning Python is Easy\n",
      "ysaE si nohtyP gninraeL\n"
     ]
    }
   ],
   "source": [
    "s = \"Learning Python is Easy\"\n",
    "print(s[1:7])\n",
    "print(s[1:7:2])\n",
    "print(s[:7])\n",
    "print(s[9:])\n",
    "print(s[::])\n",
    "print(s[:2])\n",
    "print(s[:])\n",
    "print(s[::-1])"
   ]
  },
  {
   "cell_type": "code",
   "execution_count": 41,
   "metadata": {},
   "outputs": [
    {
     "name": "stdout",
     "output_type": "stream",
     "text": [
      "False\n",
      "True\n",
      "False\n",
      "106\n",
      "32\n"
     ]
    }
   ],
   "source": [
    "# Comparison of String\n",
    "\n",
    "s1 = \"Jeel\"\n",
    "s2 = \"jeel\"\n",
    "print(s1>s2)\n",
    "print(s1<s2)\n",
    "print(s1==s2)\n",
    "print(ord(\"j\"))\n",
    "print(ord(\" \"))"
   ]
  },
  {
   "cell_type": "code",
   "execution_count": 29,
   "metadata": {},
   "outputs": [
    {
     "name": "stdout",
     "output_type": "stream",
     "text": [
      "False\n",
      "True\n",
      "False\n",
      "Ascii Value of m :- 109\n",
      "Ascii Value of y :- 121\n",
      "Ascii Value of M :- 77\n",
      "Ascii Value of Y :- 89\n"
     ]
    }
   ],
   "source": [
    "s1 = \"Arman\"\n",
    "s2 = \"Aryan\"\n",
    "print(s1>s2)\n",
    "print(s1<s2)\n",
    "print(s1==s2)\n",
    "print(\"Ascii Value of m :-\",ord(\"m\"))\n",
    "print(\"Ascii Value of y :-\",ord(\"y\"))\n",
    "print(\"Ascii Value of M :-\",ord(\"M\"))\n",
    "print(\"Ascii Value of Y :-\",ord(\"Y\"))"
   ]
  },
  {
   "cell_type": "code",
   "execution_count": 38,
   "metadata": {},
   "outputs": [
    {
     "name": "stdout",
     "output_type": "stream",
     "text": [
      "ê\n"
     ]
    }
   ],
   "source": [
    "# Char to Ascii value :- ( ord() )\n",
    "# Ascii value to Char :- ( chr() )\n",
    "\n",
    "print(chr(234))\n"
   ]
  },
  {
   "cell_type": "code",
   "execution_count": 35,
   "metadata": {},
   "outputs": [
    {
     "name": "stdout",
     "output_type": "stream",
     "text": [
      "Enter String s1:- JeeL\n",
      "Enter String s2:- Jeel\n",
      "S1 Smaller Than S2\n"
     ]
    }
   ],
   "source": [
    "s1 = input(\"Enter String s1:- \")\n",
    "s2 = input(\"Enter String s2:- \")\n",
    "if s1 > s2:\n",
    "    print(\"S1 is Greater Than S2\")\n",
    "elif s1 < s2:\n",
    "    print(\"S1 Smaller Than S2\")\n",
    "else:\n",
    "    print(\"Equal String\")"
   ]
  },
  {
   "cell_type": "code",
   "execution_count": 54,
   "metadata": {},
   "outputs": [
    {
     "name": "stdout",
     "output_type": "stream",
     "text": [
      "Jeel_B_Patel\n"
     ]
    }
   ],
   "source": [
    "# Joining of String\n",
    "a = \"_\" \n",
    "t = (\"Jeel\",\"B\",\"Patel\")\n",
    "s=a.join(t)\n",
    "print(s)"
   ]
  },
  {
   "cell_type": "code",
   "execution_count": 12,
   "metadata": {},
   "outputs": [
    {
     "name": "stdout",
     "output_type": "stream",
     "text": [
      "Jeel s' Salary is 999999 and age is 20\n",
      "My Name is Jeel and salary is 999999 and age is 20\n"
     ]
    }
   ],
   "source": [
    "# Formatting of String\n",
    "\n",
    "name = \"Jeel\"\n",
    "salary = 999999\n",
    "age = 20\n",
    "print(\"{0} s' Salary is {1} and age is {2}\".format(name,salary,age))\n",
    "print(\"My Name is %s and salary is %d and age is %d\"%(name,salary,age))"
   ]
  },
  {
   "cell_type": "code",
   "execution_count": 80,
   "metadata": {},
   "outputs": [
    {
     "name": "stdout",
     "output_type": "stream",
     "text": [
      "  Jeel  \n",
      "Jeel\n",
      "  Jeel\n",
      "Jeel  \n"
     ]
    }
   ],
   "source": [
    "# Important Function of String\n",
    "# strip() :- Remove blank space\n",
    "# rstrip() :- Remove RIGHT Blank Space\n",
    "# lstrip() :- Remove LEFT Blank Space\n",
    "\n",
    "t = \"  Jeel  \"\n",
    "s = t.strip()\n",
    "rs = t.rstrip()\n",
    "ls = t.lstrip()\n",
    "print(t)\n",
    "print(s)\n",
    "print(rs)\n",
    "print(ls)"
   ]
  },
  {
   "cell_type": "code",
   "execution_count": 92,
   "metadata": {},
   "outputs": [
    {
     "name": "stdout",
     "output_type": "stream",
     "text": [
      "anan\n",
      "bana\n"
     ]
    }
   ],
   "source": [
    "t = \"banan\"\n",
    "ls = t.lstrip(\"b\")\n",
    "rs = t.rstrip(\"n\")\n",
    "print(ls)\n",
    "print(rs)"
   ]
  },
  {
   "cell_type": "code",
   "execution_count": 105,
   "metadata": {},
   "outputs": [
    {
     "name": "stdout",
     "output_type": "stream",
     "text": [
      "JEEL\n",
      "jeel\n",
      "JeEl\n",
      "Jeel B Patel \n"
     ]
    }
   ],
   "source": [
    "# Change the case string \n",
    "# lower() , upper() , swapcase() , title() , capitalise() \n",
    "\n",
    "us = \"jeel\"\n",
    "ls = \"JEEL\"\n",
    "sc = \"jEeL\"\n",
    "tl = \"jeel B patel \"\n",
    "\n",
    "ux = us.upper()\n",
    "lx = ls.lower()\n",
    "cx = sc.swapcase()\n",
    "tx = tl.title()\n",
    "\n",
    "print(ux)\n",
    "print(lx)\n",
    "print(cx)\n",
    "print(tx)"
   ]
  },
  {
   "cell_type": "code",
   "execution_count": 21,
   "metadata": {},
   "outputs": [
    {
     "name": "stdout",
     "output_type": "stream",
     "text": [
      "--isalnum--\n",
      "True\n",
      "False\n",
      "False\n",
      "True\n",
      "--isalpha--\n",
      "True\n",
      "False\n",
      "False\n",
      "False\n",
      "--isupper--\n",
      "False\n",
      "False\n",
      "False\n",
      "True\n",
      "--isdigit--\n",
      "False\n",
      "False\n",
      "False\n",
      "False\n",
      "--istitle--\n",
      "True\n",
      "True\n",
      "True\n",
      "False\n",
      "--isspace--\n",
      "False\n"
     ]
    }
   ],
   "source": [
    "# To check the type of char in string\n",
    "# isalnum() :- ( A - Z , a - z , 0 - 9 )\n",
    "# isalpha() :- ( A - Z , a - z )\n",
    "# isdigit() :- ( 0 - 9 )\n",
    "# isupper() , islower() :- \n",
    "# istitle() :-\n",
    "# isspace() :-\n",
    "\n",
    "a = \"Jeel\"\n",
    "a1 = \"Jeel 15\"\n",
    "a2 = \"Jeel@15\"\n",
    "a3 = \"12345\"\n",
    "\n",
    "x = a.isalnum()\n",
    "x1 = a1.isalnum()\n",
    "x2 = a2.isalnum()\n",
    "x3 = a3.isalnum()\n",
    "\n",
    "l = a.isalpha()\n",
    "l1 = a1.isalpha()\n",
    "l2 = a2.isalpha()\n",
    "l3 = a3.isalpha()\n",
    "\n",
    "u = a.isupper()\n",
    "u1 = a1.isupper()\n",
    "u2 = a2.isupper()\n",
    "u3 = a3.isupper()\n",
    "\n",
    "d = a.isdigit()\n",
    "d1 = a1.isdigit()\n",
    "d2 = a2.isdigit()\n",
    "d3 = a3.isdigit()\n",
    "\n",
    "t = a.istitle()\n",
    "t1 = a1.istitle()\n",
    "t2 = a2.istitle()\n",
    "t3 = a3.istitle()\n",
    "\n",
    "s = a.isspace()\n",
    "\n",
    "print(\"--isalnum--\")\n",
    "\n",
    "print(x)\n",
    "print(x1)\n",
    "print(x2)\n",
    "print(x3)\n",
    "\n",
    "print(\"--isalpha--\")\n",
    "\n",
    "print(l)\n",
    "print(l1)\n",
    "print(l2)\n",
    "print(l3)\n",
    "\n",
    "print(\"--isupper--\")\n",
    "\n",
    "print(d)\n",
    "print(d1)\n",
    "print(d2)\n",
    "print(d3)\n",
    "\n",
    "print(\"--isdigit--\")\n",
    "\n",
    "print(u)\n",
    "print(u1)\n",
    "print(u2)\n",
    "print(u3)\n",
    "\n",
    "print(\"--istitle--\")\n",
    "\n",
    "print(t)\n",
    "print(t1)\n",
    "print(t2)\n",
    "print(t3)\n",
    "\n",
    "print(\"--isspace--\")\n",
    "\n",
    "print(s)"
   ]
  },
  {
   "cell_type": "code",
   "execution_count": 30,
   "metadata": {},
   "outputs": [
    {
     "name": "stdout",
     "output_type": "stream",
     "text": [
      "5\n",
      "4\n",
      "9\n",
      "-1\n"
     ]
    }
   ],
   "source": [
    "# find() string \n",
    "\n",
    "s = \"Jeel B Patel\"\n",
    "print(s.find(\"B\"))\n",
    "print(s.find(\" \"))\n",
    "print(s.find(\"t\"))\n",
    "print(s.find(\"b\"))"
   ]
  },
  {
   "cell_type": "code",
   "execution_count": 47,
   "metadata": {},
   "outputs": [
    {
     "name": "stdout",
     "output_type": "stream",
     "text": [
      "8\n",
      "12\n",
      "12\n",
      "8\n"
     ]
    }
   ],
   "source": [
    "# find (Substring , Begin , End) :- Find start string index \n",
    "# rfind () :- Find last string index\n",
    "\n",
    "s = \"Python is Easy\"\n",
    "print(s.find(\"s\",1,13))\n",
    "print(s.rfind(\"s\",4,13))\n",
    "print(s.rfind(\"s\"))\n",
    "print(s.find(\"s\"))"
   ]
  },
  {
   "cell_type": "code",
   "execution_count": 60,
   "metadata": {},
   "outputs": [
    {
     "name": "stdout",
     "output_type": "stream",
     "text": [
      "4\n",
      "2\n",
      "5\n"
     ]
    }
   ],
   "source": [
    "# count(Substring) :- Find how many time string repeat\n",
    "# count(Substring , Begin , End)\n",
    "\n",
    "s = \"asbdsaasbsaabdrsbbfbysdkb\"\n",
    "print(s.count(\"a\",5,))\n",
    "print(s.count(\"b\",1,10))\n",
    "print(s.count(\"a\"))"
   ]
  },
  {
   "cell_type": "code",
   "execution_count": 71,
   "metadata": {},
   "outputs": [
    {
     "name": "stdout",
     "output_type": "stream",
     "text": [
      "Jaal Patel\n",
      "Jeel Petel\n"
     ]
    }
   ],
   "source": [
    "# replace(\"old string\",\"new string\")\n",
    "\n",
    "s = \"Jaal Patel\"\n",
    "r = s.replace(\"a\",\"e\")\n",
    "print(s)\n",
    "print(r)"
   ]
  },
  {
   "cell_type": "code",
   "execution_count": 83,
   "metadata": {},
   "outputs": [
    {
     "name": "stdout",
     "output_type": "stream",
     "text": [
      "['15', '01', '2002']\n",
      "15\n",
      "01\n",
      "2002\n"
     ]
    }
   ],
   "source": [
    "# split()\n",
    "\n",
    "s = \"15=01=2002\"\n",
    "x = s.split('=')\n",
    "print(x)\n",
    "for i in x:\n",
    "    print(i)"
   ]
  },
  {
   "cell_type": "code",
   "execution_count": 2,
   "metadata": {},
   "outputs": [
    {
     "name": "stdout",
     "output_type": "stream",
     "text": [
      "('I Am Jeel ', 'Patel', ' in CSE')\n",
      "I Am Jeel \n",
      "Patel\n",
      " in CSE\n"
     ]
    }
   ],
   "source": [
    "# partition()\n",
    "\n",
    "s = \"I Am Jeel Patel in CSE\"\n",
    "x = s.partition(\"Patel\")\n",
    "print(x)\n",
    "for i in x:\n",
    "    print(i)"
   ]
  },
  {
   "cell_type": "code",
   "execution_count": 10,
   "metadata": {},
   "outputs": [
    {
     "name": "stdout",
     "output_type": "stream",
     "text": [
      "Hello  Hi  How  are you ?\n"
     ]
    }
   ],
   "source": [
    "# remove function using translate()\n",
    "\n",
    "t = \"Hello ! Hi @ How {} are you ?\"\n",
    "x = t.maketrans( \"!\",\"+\",\"!@{}\" )\n",
    "t = t.translate(x)\n",
    "print(t)"
   ]
  },
  {
   "cell_type": "code",
   "execution_count": 19,
   "metadata": {},
   "outputs": [
    {
     "name": "stdout",
     "output_type": "stream",
     "text": [
      "Hello Hi How are you ?\n",
      "H1223 Hi H3w ar1 y3u ?\n"
     ]
    }
   ],
   "source": [
    "t = \"Hello Hi How are you ?\"\n",
    "b = \"elo\"\n",
    "c = \"123\"\n",
    "print(t)\n",
    "print(t.translate(t.maketrans(b,c)))"
   ]
  },
  {
   "cell_type": "code",
   "execution_count": 8,
   "metadata": {},
   "outputs": [
    {
     "name": "stdout",
     "output_type": "stream",
     "text": [
      "Hello  Hi  How  are you \n",
      "!][\"][#][$][%][&]['][(][)][*][+][,][-][.][/][:][;][<][=][>][?][@][[][\\][]][^][_][`][{][|][}][~]["
     ]
    }
   ],
   "source": [
    "# remove function using translate() using ( import string )\n",
    "\n",
    "import string\n",
    "\n",
    "t = \"Hello ! Hi @ How {} are you ?\"\n",
    "x = t.maketrans(\" \",\" \",string.punctuation)\n",
    "t = t.translate(x)\n",
    "print(t)\n",
    "\n",
    "a = string.punctuation\n",
    "for i in a:\n",
    "    print(i , end=\"][\")"
   ]
  },
  {
   "cell_type": "code",
   "execution_count": 14,
   "metadata": {},
   "outputs": [
    {
     "name": "stdout",
     "output_type": "stream",
     "text": [
      "<class 'tuple'>\n"
     ]
    }
   ],
   "source": [
    "# Tuple :- Denote = ( ) :- Round Brack :- Immutable Data\n",
    "# Read only version of list\n",
    "# Duplicate are allowed\n",
    "# Data is fix and ever change\n",
    "\n",
    "t = ()\n",
    "print(type(t))"
   ]
  },
  {
   "cell_type": "code",
   "execution_count": 18,
   "metadata": {},
   "outputs": [
    {
     "name": "stdout",
     "output_type": "stream",
     "text": [
      "<class 'tuple'>\n",
      "(10, 20, 10)\n",
      "(10, 12, 14, 16, 18)\n"
     ]
    }
   ],
   "source": [
    "t1 = (10,)\n",
    "t2 = 10,20,10\n",
    "t3 = tuple(range(10,20,2))\n",
    "\n",
    "print(type(t1))\n",
    "print(t2)\n",
    "print(t3)"
   ]
  },
  {
   "cell_type": "code",
   "execution_count": 20,
   "metadata": {},
   "outputs": [
    {
     "name": "stdout",
     "output_type": "stream",
     "text": [
      "10\n",
      "50\n"
     ]
    },
    {
     "ename": "IndexError",
     "evalue": "tuple index out of range",
     "output_type": "error",
     "traceback": [
      "\u001b[1;31m---------------------------------------------------------------------------\u001b[0m",
      "\u001b[1;31mIndexError\u001b[0m                                Traceback (most recent call last)",
      "\u001b[1;32m<ipython-input-20-67b3ae5aa902>\u001b[0m in \u001b[0;36m<module>\u001b[1;34m\u001b[0m\n\u001b[0;32m      4\u001b[0m \u001b[0mprint\u001b[0m\u001b[1;33m(\u001b[0m\u001b[0mx\u001b[0m\u001b[1;33m[\u001b[0m\u001b[1;36m0\u001b[0m\u001b[1;33m]\u001b[0m\u001b[1;33m)\u001b[0m\u001b[1;33m\u001b[0m\u001b[1;33m\u001b[0m\u001b[0m\n\u001b[0;32m      5\u001b[0m \u001b[0mprint\u001b[0m\u001b[1;33m(\u001b[0m\u001b[0mx\u001b[0m\u001b[1;33m[\u001b[0m\u001b[1;33m-\u001b[0m\u001b[1;36m1\u001b[0m\u001b[1;33m]\u001b[0m\u001b[1;33m)\u001b[0m\u001b[1;33m\u001b[0m\u001b[1;33m\u001b[0m\u001b[0m\n\u001b[1;32m----> 6\u001b[1;33m \u001b[0mprint\u001b[0m\u001b[1;33m(\u001b[0m\u001b[0mx\u001b[0m\u001b[1;33m[\u001b[0m\u001b[1;36m10\u001b[0m\u001b[1;33m]\u001b[0m\u001b[1;33m)\u001b[0m\u001b[1;33m\u001b[0m\u001b[1;33m\u001b[0m\u001b[0m\n\u001b[0m",
      "\u001b[1;31mIndexError\u001b[0m: tuple index out of range"
     ]
    }
   ],
   "source": [
    "# Accessing elements of tuple\n",
    "\n",
    "x = (10,20,30,40,50)\n",
    "\n",
    "print(x[0])\n",
    "print(x[-1])\n",
    "print(x[10])"
   ]
  },
  {
   "cell_type": "code",
   "execution_count": 25,
   "metadata": {},
   "outputs": [
    {
     "name": "stdout",
     "output_type": "stream",
     "text": [
      "1 (30, 40, 50)\n",
      "2 (30, 40, 50, 60)\n",
      "3 (10, 30, 50)\n",
      "4 (20, 40, 60)\n",
      "5 (10, 20, 30, 40, 50, 60)\n",
      "6 ()\n",
      "7 (10, 20, 30, 40, 50, 60)\n",
      "8 (10, 20)\n",
      "9 (10, 20, 30, 40, 50, 60)\n",
      "10 (60, 50, 40, 30, 20, 10)\n"
     ]
    }
   ],
   "source": [
    "# Accessing elements of tuple :- Slicing \n",
    "\n",
    "x = (10,20,30,40,50,60)\n",
    "\n",
    "print(\"1\",x[2:5])\n",
    "print(\"2\",x[2:100])\n",
    "print(\"3\",x[::2])\n",
    "print(\"4\",x[1:7:2])\n",
    "print(\"5\",x[:7])\n",
    "print(\"6\",x[9:])\n",
    "print(\"7\",x[::])\n",
    "print(\"8\",x[:2])\n",
    "print(\"9\",x[:])\n",
    "print(\"10\",x[::-1])"
   ]
  },
  {
   "cell_type": "code",
   "execution_count": 26,
   "metadata": {},
   "outputs": [
    {
     "ename": "TypeError",
     "evalue": "'tuple' object does not support item assignment",
     "output_type": "error",
     "traceback": [
      "\u001b[1;31m---------------------------------------------------------------------------\u001b[0m",
      "\u001b[1;31mTypeError\u001b[0m                                 Traceback (most recent call last)",
      "\u001b[1;32m<ipython-input-26-cb7f50ccb528>\u001b[0m in \u001b[0;36m<module>\u001b[1;34m\u001b[0m\n\u001b[0;32m      1\u001b[0m \u001b[0mx\u001b[0m \u001b[1;33m=\u001b[0m \u001b[1;33m(\u001b[0m\u001b[1;36m10\u001b[0m\u001b[1;33m,\u001b[0m\u001b[1;36m20\u001b[0m\u001b[1;33m,\u001b[0m\u001b[1;36m30\u001b[0m\u001b[1;33m,\u001b[0m\u001b[1;36m40\u001b[0m\u001b[1;33m,\u001b[0m\u001b[1;36m50\u001b[0m\u001b[1;33m,\u001b[0m\u001b[1;36m60\u001b[0m\u001b[1;33m)\u001b[0m\u001b[1;33m\u001b[0m\u001b[1;33m\u001b[0m\u001b[0m\n\u001b[1;32m----> 2\u001b[1;33m \u001b[0mx\u001b[0m\u001b[1;33m[\u001b[0m\u001b[1;36m2\u001b[0m\u001b[1;33m]\u001b[0m \u001b[1;33m=\u001b[0m \u001b[1;36m70\u001b[0m\u001b[1;33m\u001b[0m\u001b[1;33m\u001b[0m\u001b[0m\n\u001b[0m",
      "\u001b[1;31mTypeError\u001b[0m: 'tuple' object does not support item assignment"
     ]
    }
   ],
   "source": [
    "x = (10,20,30,40,50,60)\n",
    "x[2] = 70"
   ]
  },
  {
   "cell_type": "code",
   "execution_count": 32,
   "metadata": {},
   "outputs": [
    {
     "name": "stdout",
     "output_type": "stream",
     "text": [
      "+ :- (10, 20, 30, 40, 50, 60)\n",
      "* :- (10, 20, 30, 10, 20, 30, 10, 20, 30)\n"
     ]
    }
   ],
   "source": [
    "# Accessing elements of tuple :- Mathematical \n",
    "\n",
    "t1 = (10,20,30)\n",
    "t2 = (40,50,60)\n",
    "t3 = t1 + t2\n",
    "t4 = t1 * 3\n",
    "print(\"+ :-\",t3)\n",
    "print(\"* :-\",t4)"
   ]
  },
  {
   "cell_type": "code",
   "execution_count": 63,
   "metadata": {},
   "outputs": [
    {
     "name": "stdout",
     "output_type": "stream",
     "text": [
      "Len :- 5\n",
      "Count :- 3\n",
      "Index :- 2\n",
      "(1, 2, 3, 4, 5, 2)\n",
      "Sorted :- [5, 4, 3, 2, 2, 1]\n",
      "Min :- 20\n",
      "Max :- 506\n",
      "Packing Tuple :- (10, 20, 30, 40)\n",
      "Unpacking Tuple :- 1\n",
      "Unpacking Tuple :- 2\n",
      "Unpacking Tuple :- 3\n",
      "Unpacking Tuple :- 4\n"
     ]
    }
   ],
   "source": [
    "# Accessing elements of tuple :- \n",
    "# Important :- ( len() , count() , index() , sorted() ,  min() , max() , Packing() , Unpacking() )\n",
    "\n",
    "t1 = (10,20,30,40,50)\n",
    "t2 = (20,30,40,20,20,30,40,506)\n",
    "t3 = (1,2,3,4,5)\n",
    "t4 = (1,2,3,4,5,2)\n",
    "t5 = sorted(t4,reverse = True)\n",
    "\n",
    "print(\"Len :-\",len(t1))\n",
    "\n",
    "print(\"Count :-\",t2.count(20))\n",
    "\n",
    "print(\"Index :-\",t3.index(3))\n",
    "\n",
    "print(t4)\n",
    "print(\"Sorted :-\",t5)\n",
    "\n",
    "print(\"Min :-\",min(t2))\n",
    "\n",
    "print(\"Max :-\",max(t2))\n",
    "\n",
    "a = 10\n",
    "b = 20\n",
    "c = 30\n",
    "d = 40\n",
    "t6 = a,b,c,d\n",
    "print(\"Packing Tuple :-\",t6)\n",
    "\n",
    "t7 = (1,2,3,4)\n",
    "a,b,c,d = t7\n",
    "print(\"Unpacking Tuple :-\",a)\n",
    "print(\"Unpacking Tuple :-\",b)\n",
    "print(\"Unpacking Tuple :-\",c)\n",
    "print(\"Unpacking Tuple :-\",d)\n"
   ]
  },
  {
   "cell_type": "code",
   "execution_count": null,
   "metadata": {},
   "outputs": [],
   "source": [
    "# Loop In Turple\n",
    "\n",
    "x = (\"Jeel\",\"B\",\"Patel\")\n",
    "\n",
    "for i in x:\n",
    "    print(i)\n",
    "    \n",
    "    \n",
    "print(\"--Range Fun--\")\n",
    "for i in range(len(x)):\n",
    "    print(x[i])\n",
    "\n",
    "print(\"--While Loop--\")\n",
    "i = 0\n",
    "while i < len(x):\n",
    "    print(x[i])\n",
    "    i+=1"
   ]
  },
  {
   "cell_type": "code",
   "execution_count": 1,
   "metadata": {},
   "outputs": [
    {
     "name": "stdout",
     "output_type": "stream",
     "text": [
      "Enter Find Lenght:- Jeel Patel\n",
      "The length of Tuple is 3\n",
      "The length of Tuple is 4\n",
      "The length of Tuple is 10\n"
     ]
    }
   ],
   "source": [
    "# WAP to find length of string without len() function\n",
    "\n",
    "def findlen(x):\n",
    "    count = 0\n",
    "    for i in x:\n",
    "        count+=1\n",
    "    print(\"The length of Tuple is\",count)\n",
    "    \n",
    "x1 = \"Jeel\",\"B\",\"Patel\"\n",
    "x2 = 10,20,30,10\n",
    "x3 = input(\"Enter Find Lenght:- \")\n",
    "\n",
    "findlen(x1)\n",
    "findlen(x2)\n",
    "findlen(x3)"
   ]
  },
  {
   "cell_type": "code",
   "execution_count": 8,
   "metadata": {},
   "outputs": [
    {
     "name": "stdout",
     "output_type": "stream",
     "text": [
      "Enter String :-JeeJ\n",
      "The string are same\n"
     ]
    }
   ],
   "source": [
    "# WAP Palindrome or not\n",
    "\n",
    "def plistr(s1):\n",
    "    s2 = s1[::-1]\n",
    "    if s1 == s2:\n",
    "        print(\"The string are same\")\n",
    "    else:\n",
    "        print(\"The string are NOT Same\")\n",
    "s1 = input(\"Enter String :-\")\n",
    "plistr(s1)\n",
    "        \n",
    "    "
   ]
  },
  {
   "cell_type": "code",
   "execution_count": 1,
   "metadata": {},
   "outputs": [
    {
     "name": "stdout",
     "output_type": "stream",
     "text": [
      "Enter String :-Jeel\n",
      "Enter Remove Element :-3\n",
      "Ans is Jee\n",
      "----Done --by--Loop----\n",
      "Enter String :-Patel\n",
      "Enter Remove Element :-4\n",
      "Ans is  Pate\n"
     ]
    }
   ],
   "source": [
    "s = input(\"Enter String :-\")\n",
    "r = int(input(\"Enter Remove Element :-\"))\n",
    "b = s[:r]\n",
    "c = s[r+1:]\n",
    "d = b + c\n",
    "print(\"Ans is\",d)\n",
    "\n",
    "print(\"----Done --by--Loop----\")\n",
    "s = input(\"Enter String :-\")\n",
    "new = \" \"\n",
    "j = int(input(\"Enter Remove Element :-\"))\n",
    "for i in range(len(s)):\n",
    "    if i != j:\n",
    "        new = new+s[i]\n",
    "print(\"Ans is\",new)"
   ]
  },
  {
   "cell_type": "code",
   "execution_count": null,
   "metadata": {},
   "outputs": [],
   "source": [
    "# Find First Letter , Mid Letter , Last Letter of string\n",
    "s = input(\"Enter the String :-\")\n",
    "sl = len(s)\n",
    "fl = s[0]\n",
    "sl = s[-1]\n",
    "ml = s[int(len(s)/2)]\n",
    "print(fl,ml,sl)"
   ]
  },
  {
   "cell_type": "code",
   "execution_count": 19,
   "metadata": {},
   "outputs": [
    {
     "name": "stdout",
     "output_type": "stream",
     "text": [
      "Enter The Group of String (Digit,Char,Sp_Symbole) :-JeelPatel!23\n",
      "The Total len of sting 12\n",
      "Total No of Char is 9\n",
      "Total No of Upper Char is 2\n",
      "Total No of Lower Char is 7\n",
      "Total No of Digit is 2\n",
      "Total No of Sp_Char is 1\n"
     ]
    }
   ],
   "source": [
    "# WAP to find CHAR , DIGIT , SP_CHAR , UPPER_CHAR , LOWER_CHAR form string\n",
    "\n",
    "def find(s):\n",
    "    l = len(s)\n",
    "    c = 0\n",
    "    lu = 0\n",
    "    ll = 0\n",
    "    d = 0\n",
    "    sp = 0\n",
    "    for i in s:\n",
    "        if i.isalpha():\n",
    "            if i.isupper():\n",
    "                lu=lu+1\n",
    "            elif i.islower():\n",
    "                ll=ll+1\n",
    "            c=c+1\n",
    "        elif i.isdigit():\n",
    "            d=d+1\n",
    "        else:\n",
    "            sp=sp+1\n",
    "    print(\"The Total len of sting\",l)\n",
    "    print(\"Total No of Char is\",c)\n",
    "    print(\"Total No of Upper Char is\",lu)\n",
    "    print(\"Total No of Lower Char is\",ll)\n",
    "    print(\"Total No of Digit is\",d)\n",
    "    print(\"Total No of Sp_Char is\",sp)\n",
    "    \n",
    "s = input(\"Enter The Group of String (Digit,Char,Sp_Symbole) :-\")\n",
    "find(s)"
   ]
  },
  {
   "cell_type": "code",
   "execution_count": 7,
   "metadata": {},
   "outputs": [
    {
     "name": "stdout",
     "output_type": "stream",
     "text": [
      "Enter The Char :-Jeel Patel USA USa Usa uSA \n",
      "Enter Find Char :-usa\n",
      "4\n"
     ]
    }
   ],
   "source": [
    "# Find the char\n",
    "s = input(\"Enter The Char :-\")\n",
    "f = input(\"Enter Find Char :-\")\n",
    "sp = s.lower()\n",
    "print(sp.count(f))"
   ]
  },
  {
   "cell_type": "code",
   "execution_count": 19,
   "metadata": {},
   "outputs": [
    {
     "name": "stdout",
     "output_type": "stream",
     "text": [
      "Enter The String,number:-q1w2e3r4t5y6u7i8o9p0\n",
      "The Sum of all digitis 45\n",
      "The AVG os sum 4.5\n"
     ]
    }
   ],
   "source": [
    "# Sum of all digit and get avg of sum\n",
    "count = 0\n",
    "sum = 0\n",
    "s=input(\"Enter The String,number:-\")\n",
    "for i in s:\n",
    "    if i.isdigit():\n",
    "        count+=1\n",
    "        sum+=int(i)\n",
    "avg = sum/dc\n",
    "print(\"The Sum of all digitis\",sum)\n",
    "print(\"The AVG os sum\",avg)"
   ]
  },
  {
   "cell_type": "code",
   "execution_count": 26,
   "metadata": {},
   "outputs": [
    {
     "name": "stdout",
     "output_type": "stream",
     "text": [
      "Enter the Stringjeel-patel-b\n",
      "Enter to split -\n",
      "jeel\n",
      "patel\n",
      "b\n"
     ]
    }
   ],
   "source": [
    "t = input(\"Enter the String\")\n",
    "s = input(\"Enter to split \")\n",
    "r = t.split(s)\n",
    "for i in r:\n",
    "    print(i)"
   ]
  },
  {
   "cell_type": "code",
   "execution_count": 6,
   "metadata": {},
   "outputs": [
    {
     "name": "stdout",
     "output_type": "stream",
     "text": [
      "Enter Digit:- 1,2,3,4,5\n",
      "6\n"
     ]
    }
   ],
   "source": [
    "t = eval(input(\"Enter Digit:- \"))\n",
    "sum = 0\n",
    "for i in t:\n",
    "    if i%2==0:\n",
    "        sum=sum+i\n",
    "    else:\n",
    "        pass\n",
    "print(sum)"
   ]
  },
  {
   "cell_type": "code",
   "execution_count": 1,
   "metadata": {},
   "outputs": [
    {
     "name": "stdout",
     "output_type": "stream",
     "text": [
      "Enter The Number: 634,321,1,234,12,464,353,23,54,3,1134523,423\n",
      "MAX is 1134523\n",
      "MIN is 1\n"
     ]
    }
   ],
   "source": [
    "t = eval(input(\"Enter The Number: \"))\n",
    "max = t[0]\n",
    "min = t[1]\n",
    "for i in t:\n",
    "    if max<i:\n",
    "        max=i\n",
    "    if min>i:\n",
    "        min=i\n",
    "print(\"MAX is\",max)\n",
    "print(\"MIN is\",min)"
   ]
  },
  {
   "cell_type": "code",
   "execution_count": 2,
   "metadata": {
    "scrolled": true
   },
   "outputs": [
    {
     "name": "stdout",
     "output_type": "stream",
     "text": [
      "['l', 'e', 'e', 'J']\n",
      "['N', 'O', 'H', 'T', 'Y', 'P']\n"
     ]
    }
   ],
   "source": [
    "# reversed\n",
    "t=\"Jeel\"\n",
    "t1 = (\"P\",\"Y\",\"T\",\"H\",\"O\",\"N\")\n",
    "print(list(reversed(t)))\n",
    "print(list(reversed(t1)))"
   ]
  },
  {
   "cell_type": "code",
   "execution_count": 6,
   "metadata": {},
   "outputs": [
    {
     "name": "stdout",
     "output_type": "stream",
     "text": [
      "[8, 7, 6, 5]\n"
     ]
    }
   ],
   "source": [
    "r = range(5,9)\n",
    "print(list(reversed(r)))"
   ]
  },
  {
   "cell_type": "code",
   "execution_count": 11,
   "metadata": {},
   "outputs": [
    {
     "name": "stdout",
     "output_type": "stream",
     "text": [
      "[(0, 'j'), (1, 'e'), (2, 'e'), (3, 'l')]\n",
      "[(10, 'j'), (11, 'e'), (12, 'e'), (13, 'l')]\n"
     ]
    }
   ],
   "source": [
    "# enumerate :- mean give index \n",
    "\n",
    "r = \"jeel\"\n",
    "print(list(enumerate(r)))\n",
    "print(list(enumerate(r,10)))"
   ]
  },
  {
   "cell_type": "code",
   "execution_count": 14,
   "metadata": {},
   "outputs": [
    {
     "name": "stdout",
     "output_type": "stream",
     "text": [
      "[(0, 'jeel'), (1, 'B'), (2, 'Patel')]\n"
     ]
    }
   ],
   "source": [
    "s1 = [\"jeel\",\"B\",\"Patel\"]\n",
    "print(list(enumerate(s1)))"
   ]
  },
  {
   "cell_type": "code",
   "execution_count": 16,
   "metadata": {},
   "outputs": [
    {
     "name": "stdout",
     "output_type": "stream",
     "text": [
      "0 - H\n",
      "1 - e\n",
      "2 - l\n",
      "3 - l\n",
      "4 - o\n",
      "5 -  \n",
      "6 - H\n",
      "7 - o\n",
      "8 - w\n",
      "9 -  \n",
      "10 - a\n",
      "11 - r\n",
      "12 - e\n",
      "13 -  \n",
      "14 - y\n",
      "15 - o\n",
      "16 - u\n"
     ]
    }
   ],
   "source": [
    "# soace will also count\n",
    "a = \"Hello How are you\"\n",
    "for a,b in list(enumerate(a)):\n",
    "    print(a,\"-\",b)"
   ]
  },
  {
   "cell_type": "code",
   "execution_count": null,
   "metadata": {},
   "outputs": [],
   "source": []
  },
  {
   "cell_type": "code",
   "execution_count": null,
   "metadata": {},
   "outputs": [],
   "source": []
  },
  {
   "cell_type": "code",
   "execution_count": null,
   "metadata": {},
   "outputs": [],
   "source": []
  }
 ],
 "metadata": {
  "kernelspec": {
   "display_name": "Python 3",
   "language": "python",
   "name": "python3"
  },
  "language_info": {
   "codemirror_mode": {
    "name": "ipython",
    "version": 3
   },
   "file_extension": ".py",
   "mimetype": "text/x-python",
   "name": "python",
   "nbconvert_exporter": "python",
   "pygments_lexer": "ipython3",
   "version": "3.10.9 (tags/v3.10.9:1dd9be6, Dec  6 2022, 20:01:21) [MSC v.1934 64 bit (AMD64)]"
  },
  "vscode": {
   "interpreter": {
    "hash": "5576747debf951a4018453eb75d974e871b724caded3098f47b67f7ba4c00e7f"
   }
  }
 },
 "nbformat": 4,
 "nbformat_minor": 4
}
