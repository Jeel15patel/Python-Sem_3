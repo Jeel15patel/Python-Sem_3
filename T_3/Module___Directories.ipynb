{
 "cells": [
  {
   "cell_type": "code",
   "execution_count": 1,
   "metadata": {
    "tags": []
   },
   "outputs": [
    {
     "data": {
      "text/plain": [
       "3.141592653589793"
      ]
     },
     "execution_count": 1,
     "metadata": {},
     "output_type": "execute_result"
    }
   ],
   "source": [
    "import math\n",
    "math.pi"
   ]
  },
  {
   "cell_type": "code",
   "execution_count": 5,
   "metadata": {},
   "outputs": [
    {
     "name": "stdout",
     "output_type": "stream",
     "text": [
      "33\n",
      "-11\n",
      "242\n",
      "0.5\n",
      "81402749386839761113321\n"
     ]
    }
   ],
   "source": [
    "import MyModule\n",
    "MyModule.sum(11,22)\n",
    "MyModule.sub(11,22)\n",
    "MyModule.mul(11,22)\n",
    "MyModule.div(11,22)\n",
    "MyModule.pro(11,22)"
   ]
  },
  {
   "cell_type": "code",
   "execution_count": 4,
   "metadata": {},
   "outputs": [
    {
     "name": "stdout",
     "output_type": "stream",
     "text": [
      "Overwriting MyModule.py\n"
     ]
    }
   ],
   "source": [
    "# Creat PY file by using %%writefile ..\n",
    "%%writefile MyModule.py\n",
    "def sum(a,b):\n",
    "    print(a+b)\n",
    "\n",
    "def sub(a,b):\n",
    "    print(a-b)\n",
    "\n",
    "def mul(a,b):\n",
    "    print(a*b)\n",
    "\n",
    "def div(a,b):\n",
    "    print(a/b)\n",
    "\n",
    "def pro(a,b):\n",
    "    print(a**b)"
   ]
  },
  {
   "cell_type": "code",
   "execution_count": 1,
   "metadata": {},
   "outputs": [
    {
     "name": "stdout",
     "output_type": "stream",
     "text": [
      "32\n",
      "-12\n",
      "220\n",
      "0.45454545454545453\n",
      "10000000000000000000000\n",
      "--------\n",
      "32\n",
      "-12\n",
      "220\n",
      "0.45454545454545453\n",
      "10000000000000000000000\n",
      "--------\n",
      "32\n",
      "-12\n",
      "220\n"
     ]
    }
   ],
   "source": [
    "import MyModule as j\n",
    "j.sum(10,22)\n",
    "j.sub(10,22)\n",
    "j.mul(10,22)\n",
    "j.div(10,22)\n",
    "j.pro(10,22)\n",
    "\n",
    "print(\"--------\")\n",
    "\n",
    "from MyModule import * \n",
    "sum(10,22)\n",
    "sub(10,22)\n",
    "mul(10,22)\n",
    "div(10,22)\n",
    "pro(10,22)\n",
    "\n",
    "print(\"--------\")\n",
    "\n"
   ]
  },
  {
   "cell_type": "code",
   "execution_count": 1,
   "metadata": {},
   "outputs": [
    {
     "name": "stdout",
     "output_type": "stream",
     "text": [
      "32\n",
      "-12\n"
     ]
    },
    {
     "ename": "NameError",
     "evalue": "name 'mul' is not defined",
     "output_type": "error",
     "traceback": [
      "\u001b[1;31m---------------------------------------------------------------------------\u001b[0m",
      "\u001b[1;31mNameError\u001b[0m                                 Traceback (most recent call last)",
      "Cell \u001b[1;32mIn[1], line 4\u001b[0m\n\u001b[0;32m      2\u001b[0m \u001b[39msum\u001b[39m(\u001b[39m10\u001b[39m,\u001b[39m22\u001b[39m)\n\u001b[0;32m      3\u001b[0m sub(\u001b[39m10\u001b[39m,\u001b[39m22\u001b[39m)\n\u001b[1;32m----> 4\u001b[0m mul(\u001b[39m10\u001b[39m,\u001b[39m22\u001b[39m)\n",
      "\u001b[1;31mNameError\u001b[0m: name 'mul' is not defined"
     ]
    }
   ],
   "source": [
    "from MyModule import sum,sub\n",
    "sum(10,22)\n",
    "sub(10,22)\n",
    "mul(10,22)"
   ]
  },
  {
   "cell_type": "code",
   "execution_count": 1,
   "metadata": {},
   "outputs": [
    {
     "data": {
      "text/plain": [
       "['In',\n",
       " 'Out',\n",
       " '_',\n",
       " '__',\n",
       " '___',\n",
       " '__builtin__',\n",
       " '__builtins__',\n",
       " '__doc__',\n",
       " '__loader__',\n",
       " '__name__',\n",
       " '__package__',\n",
       " '__spec__',\n",
       " '__vsc_ipynb_file__',\n",
       " '_dh',\n",
       " '_i',\n",
       " '_i1',\n",
       " '_ih',\n",
       " '_ii',\n",
       " '_iii',\n",
       " '_oh',\n",
       " 'div',\n",
       " 'exit',\n",
       " 'get_ipython',\n",
       " 'mul',\n",
       " 'open',\n",
       " 'os',\n",
       " 'pro',\n",
       " 'quit',\n",
       " 'sub',\n",
       " 'sum',\n",
       " 'sys']"
      ]
     },
     "execution_count": 1,
     "metadata": {},
     "output_type": "execute_result"
    }
   ],
   "source": [
    "\"\"\"import MyModule\n",
    "dir()\"\"\"\n",
    "\n",
    "\"\"\"from MyModule import *\n",
    "dir()\"\"\"\n",
    "\n",
    "\"\"\"from MyModule import sum,sub\n",
    "dir()\"\"\""
   ]
  },
  {
   "cell_type": "code",
   "execution_count": 1,
   "metadata": {},
   "outputs": [
    {
     "data": {
      "text/plain": [
       "'d:\\\\3_Sem\\\\#Prog_Python\\\\T_3'"
      ]
     },
     "execution_count": 1,
     "metadata": {},
     "output_type": "execute_result"
    }
   ],
   "source": [
    "# OS Module. \n",
    "\n",
    "import os\n",
    "os.getcwd()"
   ]
  },
  {
   "cell_type": "code",
   "execution_count": 24,
   "metadata": {},
   "outputs": [
    {
     "data": {
      "text/plain": [
       "'d:\\\\3_Sem\\\\#Prog_Python\\\\T_3\\\\Jeel'"
      ]
     },
     "execution_count": 24,
     "metadata": {},
     "output_type": "execute_result"
    }
   ],
   "source": [
    "# To create Folder by using OS...\n",
    "\n",
    "import os\n",
    "\n",
    "os.getcwd()\n",
    "\n",
    "# os.makedirs(\"Jeel\")\n",
    "\n",
    "# os.chdir(\"d:\\\\3_Sem\\\\#Prog_Python\\\\T_3\\\\Jeel\")\n",
    "# os.getcwd()\n",
    "\n",
    "# os.listdir(\"d:\\\\3_Sem\\\\#Prog_Python\\\\T_3\") To list \n",
    "# os.getcwd()\n",
    "# os.rmdir(\"d:\\\\3_Sem\\\\#Prog_Python\\\\T_3\\\\Jeel\") It remove Whole Folder ( IT show error because It contain files )( c/d is have Emty folder. )\n",
    "# os.rmdir(\"d:\\\\3_Sem\\\\#Prog_Python\\\\T_3\\\\Jeel\\\\Del\")  It remove Whole Folder ( c/d is have Emty folder. )"
   ]
  },
  {
   "cell_type": "code",
   "execution_count": 9,
   "metadata": {},
   "outputs": [
    {
     "name": "stdout",
     "output_type": "stream",
     "text": [
      "Writing xyz.html\n"
     ]
    }
   ],
   "source": [
    "%%writefile xyz.py\n",
    "\n",
    "def sum(a,b):\n",
    "    print(a+b)\n",
    "    \n",
    "def sub(a,b):\n",
    "    print(a-b)\n",
    "\n",
    "def mul(a,b):\n",
    "    print(a*b)"
   ]
  },
  {
   "cell_type": "code",
   "execution_count": 31,
   "metadata": {},
   "outputs": [],
   "source": [
    "import os\n",
    "#os.chdir(\"d:\\\\3_Sem\\\\#Prog_Python\\\\T_3\\\\Jeel\\\\pkg\")\n",
    "os.getcwd()\n",
    "\n",
    "os.chdir(\"d:\\\\3_Sem\\\\#Prog_Python\\\\T_3\\\\Jeel\")"
   ]
  },
  {
   "cell_type": "code",
   "execution_count": 34,
   "metadata": {},
   "outputs": [
    {
     "name": "stdout",
     "output_type": "stream",
     "text": [
      "Writing mod1.py\n"
     ]
    }
   ],
   "source": [
    "%%writefile mod1.py\n",
    "def foo1:\n",
    "    print(\"This is Mod_1\")"
   ]
  },
  {
   "cell_type": "code",
   "execution_count": 35,
   "metadata": {},
   "outputs": [
    {
     "name": "stdout",
     "output_type": "stream",
     "text": [
      "Writing mod2.py\n"
     ]
    }
   ],
   "source": [
    "%%writefile mod2.py\n",
    "def foo2:\n",
    "    print(\"This is Mod_2\")"
   ]
  },
  {
   "cell_type": "code",
   "execution_count": 46,
   "metadata": {},
   "outputs": [],
   "source": [
    "import os\n",
    "\n",
    "os.chdir(\"d:\\\\3_Sem\\\\#Prog_Python\\\\T_3\\\\Jeel\")\n",
    "\n"
   ]
  },
  {
   "cell_type": "code",
   "execution_count": 47,
   "metadata": {},
   "outputs": [
    {
     "ename": "AttributeError",
     "evalue": "module 'pkg.mod1' has no attribute 'foo1'",
     "output_type": "error",
     "traceback": [
      "\u001b[1;31m---------------------------------------------------------------------------\u001b[0m",
      "\u001b[1;31mAttributeError\u001b[0m                            Traceback (most recent call last)",
      "Cell \u001b[1;32mIn[47], line 2\u001b[0m\n\u001b[0;32m      1\u001b[0m \u001b[39mfrom\u001b[39;00m \u001b[39mpkg\u001b[39;00m \u001b[39mimport\u001b[39;00m mod1 \u001b[39mas\u001b[39;00m m\n\u001b[1;32m----> 2\u001b[0m m\u001b[39m.\u001b[39;49mfoo1()\n",
      "\u001b[1;31mAttributeError\u001b[0m: module 'pkg.mod1' has no attribute 'foo1'"
     ]
    }
   ],
   "source": [
    "from pkg import mod1 as m\n",
    "m.foo1()"
   ]
  },
  {
   "cell_type": "code",
   "execution_count": null,
   "metadata": {},
   "outputs": [],
   "source": [
    "# Try :- \n",
    "\n",
    "# Except :- \n",
    "\n",
    "# else :- \n",
    "\n",
    "# Finally :- "
   ]
  },
  {
   "cell_type": "code",
   "execution_count": 8,
   "metadata": {},
   "outputs": [
    {
     "name": "stdout",
     "output_type": "stream",
     "text": [
      "Evception occurs\n",
      "Count\n"
     ]
    }
   ],
   "source": [
    "a = 10\n",
    "b = 0\n",
    "\n",
    "try:\n",
    "    d = a/b\n",
    "    \n",
    "except:\n",
    "   print(\"Evception occurs\")\n",
    "   \n",
    "else:\n",
    "    print(d)\n",
    "\n",
    "print(\"Count\")"
   ]
  },
  {
   "cell_type": "code",
   "execution_count": 6,
   "metadata": {},
   "outputs": [
    {
     "name": "stdout",
     "output_type": "stream",
     "text": [
      "Line 1\n",
      "Line 2\n",
      "Line 3\n",
      "Line 4\n",
      "Line 5\n",
      "Line 6\n",
      "Line 7\n",
      "Line 8\n",
      "Line 9\n",
      "Line 10\n",
      "\n",
      "5\n",
      "2.5\n",
      "2\n"
     ]
    }
   ],
   "source": [
    "try:\n",
    "    m=5\n",
    "    f = open(\"ABC1.txt\",\"r\")\n",
    "    print(f.read())\n",
    "    print(m)\n",
    "    print(5/2)\n",
    "    l = [1,2,3]\n",
    "    print(l[1])\n",
    "    \n",
    "except (FileNotFoundError,NameError,ZeroDivisionError,Exception) as e:\n",
    "    print(e)\n",
    "\n",
    "\"\"\"\n",
    "except FileNotFoundError as a:\n",
    "    print(a)\n",
    "    \n",
    "except NameError as b:\n",
    "    print(b)\n",
    "    \n",
    "except ZeroDivisionError as c:\n",
    "    print(c)\n",
    "    \n",
    "except Exception as d:\n",
    "    print(d)\n",
    "\"\"\""
   ]
  },
  {
   "cell_type": "code",
   "execution_count": 11,
   "metadata": {},
   "outputs": [
    {
     "ename": "IndentationError",
     "evalue": "expected an indented block after 'if' statement on line 4 (2757975249.py, line 5)",
     "output_type": "error",
     "traceback": [
      "\u001b[1;36m  Cell \u001b[1;32mIn[11], line 5\u001b[1;36m\u001b[0m\n\u001b[1;33m    print(\"True\")\u001b[0m\n\u001b[1;37m    ^\u001b[0m\n\u001b[1;31mIndentationError\u001b[0m\u001b[1;31m:\u001b[0m expected an indented block after 'if' statement on line 4\n"
     ]
    }
   ],
   "source": [
    "try:\n",
    "    a = 1\n",
    "    b = 2 \n",
    "    if a == b:\n",
    "    print(\"True\")\n",
    "\n",
    "except IndentationError as e:\n",
    "    print(e)\n"
   ]
  },
  {
   "cell_type": "code",
   "execution_count": 12,
   "metadata": {},
   "outputs": [
    {
     "ename": "UnboundLocalError",
     "evalue": "local variable 'b' referenced before assignment",
     "output_type": "error",
     "traceback": [
      "\u001b[1;31m---------------------------------------------------------------------------\u001b[0m",
      "\u001b[1;31mUnboundLocalError\u001b[0m                         Traceback (most recent call last)",
      "Cell \u001b[1;32mIn[12], line 5\u001b[0m\n\u001b[0;32m      3\u001b[0m         b \u001b[39m=\u001b[39m a\u001b[39m/\u001b[39ma(a\u001b[39m-\u001b[39m\u001b[39m3\u001b[39m)\n\u001b[0;32m      4\u001b[0m     \u001b[39mprint\u001b[39m(b)\n\u001b[1;32m----> 5\u001b[0m fun(\u001b[39m5\u001b[39;49m)\n",
      "Cell \u001b[1;32mIn[12], line 4\u001b[0m, in \u001b[0;36mfun\u001b[1;34m(a)\u001b[0m\n\u001b[0;32m      2\u001b[0m \u001b[39mif\u001b[39;00m a\u001b[39m<\u001b[39m\u001b[39m4\u001b[39m:\n\u001b[0;32m      3\u001b[0m     b \u001b[39m=\u001b[39m a\u001b[39m/\u001b[39ma(a\u001b[39m-\u001b[39m\u001b[39m3\u001b[39m)\n\u001b[1;32m----> 4\u001b[0m \u001b[39mprint\u001b[39m(b)\n",
      "\u001b[1;31mUnboundLocalError\u001b[0m: local variable 'b' referenced before assignment"
     ]
    }
   ],
   "source": [
    "def fun(a):\n",
    "    if a<4:\n",
    "        b = a/a(a-3)\n",
    "    print(b)\n",
    "fun(5)\n",
    "\n"
   ]
  },
  {
   "cell_type": "code",
   "execution_count": 6,
   "metadata": {},
   "outputs": [
    {
     "data": {
      "text/plain": [
       "'\\nArithmeticError :- Numaric Call\\nAttributeError :- \\nException :- Base class for all Exception\\nEOFError :- End of file\\nImportError :- Import Error\\nIndentationError :- \\nIndexError :- \\nKeyError :- dict\\nNameError :- Variable error\\nSystemError :- System Error\\nTypeError :- data type\\nValueError :- wrong value\\nZeroDivisionError :- \\n\\n'"
      ]
     },
     "execution_count": 6,
     "metadata": {},
     "output_type": "execute_result"
    }
   ],
   "source": [
    "\"\"\"\n",
    "\n",
    "ArithmeticError :- Numaric Call\n",
    "AttributeError :- \n",
    "Exception :- Base class for all Exception\n",
    "EOFError :- End of file\n",
    "ImportError :- Import Error\n",
    "IndentationError :- \n",
    "IndexError :- \n",
    "KeyError :- dict\n",
    "NameError :- Variable error\n",
    "SystemError :- System Error\n",
    "TypeError :- data type\n",
    "ValueError :- wrong value\n",
    "ZeroDivisionError :- \n",
    "\n",
    "\"\"\""
   ]
  },
  {
   "cell_type": "code",
   "execution_count": 4,
   "metadata": {},
   "outputs": [],
   "source": [
    "class jeel(Exception):\n",
    "    def __init__(self,arg):\n",
    "        self.mag=arg"
   ]
  },
  {
   "cell_type": "code",
   "execution_count": 5,
   "metadata": {},
   "outputs": [
    {
     "ename": "jeel",
     "evalue": "Money HE",
     "output_type": "error",
     "traceback": [
      "\u001b[1;31m---------------------------------------------------------------------------\u001b[0m",
      "\u001b[1;31mjeel\u001b[0m                                      Traceback (most recent call last)",
      "Cell \u001b[1;32mIn[5], line 5\u001b[0m\n\u001b[0;32m      3\u001b[0m balance \u001b[39m=\u001b[39m money\u001b[39m-\u001b[39mwithdraw\n\u001b[0;32m      4\u001b[0m \u001b[39mif\u001b[39;00m balance \u001b[39m<\u001b[39m\u001b[39m=\u001b[39m \u001b[39m2000\u001b[39m:\n\u001b[1;32m----> 5\u001b[0m     \u001b[39mraise\u001b[39;00m jeel(\u001b[39m\"\u001b[39m\u001b[39mMoney HE\u001b[39m\u001b[39m\"\u001b[39m)\n\u001b[0;32m      6\u001b[0m \u001b[39mprint\u001b[39m(balance)\n",
      "\u001b[1;31mjeel\u001b[0m: Money HE"
     ]
    }
   ],
   "source": [
    "money = 10000\n",
    "withdraw = 9000\n",
    "balance = money-withdraw\n",
    "if balance <= 2000:\n",
    "    raise jeel(\"Money HE\")\n",
    "print(balance)"
   ]
  },
  {
   "cell_type": "code",
   "execution_count": null,
   "metadata": {},
   "outputs": [],
   "source": []
  },
  {
   "cell_type": "code",
   "execution_count": null,
   "metadata": {},
   "outputs": [],
   "source": []
  },
  {
   "cell_type": "code",
   "execution_count": null,
   "metadata": {},
   "outputs": [],
   "source": []
  },
  {
   "cell_type": "code",
   "execution_count": null,
   "metadata": {},
   "outputs": [],
   "source": []
  },
  {
   "cell_type": "code",
   "execution_count": null,
   "metadata": {},
   "outputs": [],
   "source": []
  }
 ],
 "metadata": {
  "kernelspec": {
   "display_name": "Python 3",
   "language": "python",
   "name": "python3"
  },
  "language_info": {
   "codemirror_mode": {
    "name": "ipython",
    "version": 3
   },
   "file_extension": ".py",
   "mimetype": "text/x-python",
   "name": "python",
   "nbconvert_exporter": "python",
   "pygments_lexer": "ipython3",
   "version": "3.10.9"
  },
  "orig_nbformat": 4,
  "vscode": {
   "interpreter": {
    "hash": "5576747debf951a4018453eb75d974e871b724caded3098f47b67f7ba4c00e7f"
   }
  }
 },
 "nbformat": 4,
 "nbformat_minor": 2
}
