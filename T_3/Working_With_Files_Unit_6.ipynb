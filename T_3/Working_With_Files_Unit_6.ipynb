{
 "cells": [
  {
   "cell_type": "code",
   "execution_count": 18,
   "metadata": {},
   "outputs": [
    {
     "data": {
      "text/plain": [
       "'\\nR :- Only Read\\nW :- Only Write\\nA :- Only Append\\n\\nR+ :- Read & Write :-  \\nW+ :- Read & Write :- Je ta le lenght hoye atalu append kare se\\nA+ :- Read & Append :- Text add in Last\\n'"
      ]
     },
     "execution_count": 18,
     "metadata": {},
     "output_type": "execute_result"
    }
   ],
   "source": [
    "\"\"\"\n",
    "R :- Only Read\n",
    "W :- Only Write\n",
    "A :- Only Append\n",
    "\n",
    "R+ :- Read & Write :-  \n",
    "W+ :- Read & Write :- jetla lenght hoye atalu append kare de\n",
    "A+ :- Read & Append :- Text add in Last\n",
    "\n",
    "Read :- THere are 3 Function of Read :- READ() , READLINE() , READLINES()\n",
    "READ() :- Read all line of file\n",
    "READLINE() :- Read Single line of file\n",
    "READLINES() :- Read All line in one\n",
    "\n",
    "Write :- There are 2 Function of write :- WRITE() , WRITELINES()\n",
    "WRITE() :-\n",
    "WRITELINES() :- \n",
    "\n",
    "\"\"\""
   ]
  },
  {
   "cell_type": "code",
   "execution_count": 20,
   "metadata": {},
   "outputs": [
    {
     "name": "stdout",
     "output_type": "stream",
     "text": [
      "\n"
     ]
    }
   ],
   "source": [
    "f = open(\"demo.txt\",\"r\")\n",
    "print(f.read())"
   ]
  },
  {
   "cell_type": "code",
   "execution_count": 22,
   "metadata": {},
   "outputs": [
    {
     "data": {
      "text/plain": [
       "10"
      ]
     },
     "execution_count": 22,
     "metadata": {},
     "output_type": "execute_result"
    }
   ],
   "source": [
    "f = open(\"demo.txt\",\"w\")\n",
    "f.write(\"Jeel Patel\")"
   ]
  },
  {
   "cell_type": "code",
   "execution_count": 26,
   "metadata": {},
   "outputs": [
    {
     "name": "stdout",
     "output_type": "stream",
     "text": [
      "0\n"
     ]
    }
   ],
   "source": [
    "f = open(\"demo.txt\",\"w\")\n",
    "print(f.tell())"
   ]
  },
  {
   "cell_type": "code",
   "execution_count": 30,
   "metadata": {},
   "outputs": [
    {
     "data": {
      "text/plain": [
       "'Hello My Name Jeel Patel'"
      ]
     },
     "execution_count": 30,
     "metadata": {},
     "output_type": "execute_result"
    }
   ],
   "source": [
    "f = open(\"demo.txt\",\"w+\")\n",
    "f.write(\"Hello My Name Jeel Patel\")\n",
    "f.seek(0)\n",
    "f.read()"
   ]
  },
  {
   "cell_type": "code",
   "execution_count": 31,
   "metadata": {},
   "outputs": [
    {
     "data": {
      "text/plain": [
       "' Name Jeel Patel'"
      ]
     },
     "execution_count": 31,
     "metadata": {},
     "output_type": "execute_result"
    }
   ],
   "source": [
    "f = open(\"demo.txt\",\"w+\")\n",
    "f.write(\"Hello My Name Jeel Patel\")\n",
    "f.seek(0)\n",
    "f.write(\"CSE Sem3\")\n",
    "f.read()"
   ]
  },
  {
   "cell_type": "code",
   "execution_count": 44,
   "metadata": {},
   "outputs": [
    {
     "name": "stdout",
     "output_type": "stream",
     "text": [
      " Name Jeel PatelHello this is A+CSE Sem3\n"
     ]
    }
   ],
   "source": [
    "f = open(\"demo.txt\",\"r+\")\n",
    "f.write(\"Hello My Name Jeel Patel\")\n",
    "f.seek(0)\n",
    "f.write(\"CSE Sem3\")\n",
    "print(f.read())"
   ]
  },
  {
   "cell_type": "code",
   "execution_count": 45,
   "metadata": {},
   "outputs": [
    {
     "name": "stdout",
     "output_type": "stream",
     "text": [
      "\n"
     ]
    }
   ],
   "source": [
    "f = open(\"demo.txt\",\"a+\")\n",
    "f.write(\"Hello this is A+\")\n",
    "f.seek(0)\n",
    "f.write(\"CSE Sem3\")\n",
    "print(f.read())"
   ]
  },
  {
   "cell_type": "code",
   "execution_count": 49,
   "metadata": {},
   "outputs": [
    {
     "data": {
      "text/plain": [
       "24"
      ]
     },
     "execution_count": 49,
     "metadata": {},
     "output_type": "execute_result"
    }
   ],
   "source": [
    "f = open(\"demo.txt\",\"w\")\n",
    "f.write(\"Hello My Name Jeel Patel\")\n"
   ]
  },
  {
   "cell_type": "code",
   "execution_count": 51,
   "metadata": {},
   "outputs": [
    {
     "name": "stdout",
     "output_type": "stream",
     "text": [
      "Hello My Name Jeel Patel\n"
     ]
    }
   ],
   "source": [
    "f = open(\"demo.txt\",\"r\")\n",
    "print(f.read())"
   ]
  },
  {
   "cell_type": "code",
   "execution_count": 55,
   "metadata": {},
   "outputs": [
    {
     "data": {
      "text/plain": [
       "10"
      ]
     },
     "execution_count": 55,
     "metadata": {},
     "output_type": "execute_result"
    }
   ],
   "source": [
    "f = open(\"demo.txt\",\"a\")\n",
    "f.write(\"From Surat\")"
   ]
  },
  {
   "cell_type": "code",
   "execution_count": 63,
   "metadata": {},
   "outputs": [
    {
     "name": "stdout",
     "output_type": "stream",
     "text": [
      "Hello My Nam\n",
      "e Jeel PatelFrom SuratFrom Surat\n",
      "Hello My Name Jeel PatelFrom SuratFrom Surat\n"
     ]
    }
   ],
   "source": [
    "f = open(\"demo.txt\",\"r\")\n",
    "print(f.read(12))\n",
    "print(f.read())\n",
    "f.seek(0)\n",
    "print(f.read())"
   ]
  },
  {
   "cell_type": "code",
   "execution_count": 69,
   "metadata": {},
   "outputs": [
    {
     "name": "stdout",
     "output_type": "stream",
     "text": [
      "Hello My Name Jeel Patel From Surat Line 1\n",
      "\n",
      "Hello My Name Jeel Patel From Surat Line 2\n",
      "\n",
      "Hello My Name Jeel Patel From Surat Line 3\n"
     ]
    }
   ],
   "source": [
    "f = open(\"demo.txt\",\"r\")\n",
    "print(f.readline())\n",
    "print(f.readline())\n",
    "print(f.readline())"
   ]
  },
  {
   "cell_type": "code",
   "execution_count": 98,
   "metadata": {},
   "outputs": [
    {
     "name": "stdout",
     "output_type": "stream",
     "text": [
      "Hello My Name Jeel Patel From Surat Line 2\n",
      "\n"
     ]
    }
   ],
   "source": [
    "f = open(\"demo.txt\",\"r\")\n",
    "l = f.readlines()\n",
    "print(l[1])"
   ]
  },
  {
   "cell_type": "code",
   "execution_count": 118,
   "metadata": {},
   "outputs": [
    {
     "name": "stdout",
     "output_type": "stream",
     "text": [
      "['Hello My Name Jeel Patel From Surat Line 1...\\n']\n"
     ]
    }
   ],
   "source": [
    "f = open(\"demo.txt\",\"r\")\n",
    "print(f.readlines(45))"
   ]
  },
  {
   "cell_type": "code",
   "execution_count": 132,
   "metadata": {},
   "outputs": [],
   "source": [
    "f = open(\"demo.txt\",\"w\")\n",
    "f.writelines([\"Hello\",\" This\",\" is\",\" GOOGLE\"])\n"
   ]
  },
  {
   "cell_type": "code",
   "execution_count": 141,
   "metadata": {},
   "outputs": [
    {
     "name": "stdout",
     "output_type": "stream",
     "text": [
      "Enter The Name:- Jeel\n",
      "Enter The Name:- Patel\n",
      "Enter The Name:- B\n"
     ]
    }
   ],
   "source": [
    "f = open(\"demo.txt\",\"w\")\n",
    "for i in range(3):\n",
    "    name = input(\"Enter The Name:- \")\n",
    "    f.write(name)\n",
    "    f.write(\"\\n\")\n",
    "f.close()\n"
   ]
  },
  {
   "cell_type": "code",
   "execution_count": 12,
   "metadata": {},
   "outputs": [
    {
     "name": "stdout",
     "output_type": "stream",
     "text": [
      "Je\n"
     ]
    }
   ],
   "source": [
    "# To get output we run 2 time. \n",
    "# To get output we run 1 time we have to close file.\n",
    "f = open(\"demo.txt\",\"w+\")\n",
    "f.write(\"Jeel\") \n",
    "f.seek(0)\n",
    "print(f.read(2))\n",
    "f.close()"
   ]
  },
  {
   "cell_type": "code",
   "execution_count": 5,
   "metadata": {},
   "outputs": [],
   "source": [
    "# To get output we run 1 time. \n",
    "with open(\"demo.txt\",\"w\") as f:\n",
    "    f.write(\"Patel\")"
   ]
  },
  {
   "cell_type": "code",
   "execution_count": 24,
   "metadata": {},
   "outputs": [
    {
     "name": "stdout",
     "output_type": "stream",
     "text": [
      "My \n",
      "name is Jeel patel.\n",
      "\n",
      "I am from Surat.\n",
      "\n"
     ]
    }
   ],
   "source": [
    "with open(\"demo.txt\",\"r\") as f:\n",
    "    print(f.readline(3))\n",
    "    print(f.readline())\n",
    "    print(f.readline())"
   ]
  },
  {
   "cell_type": "code",
   "execution_count": 28,
   "metadata": {},
   "outputs": [
    {
     "name": "stdout",
     "output_type": "stream",
     "text": [
      "['My name is Jeel patel.\\n']\n",
      "['I am from Surat.\\n', 'Course :- CSE 2 year.']\n"
     ]
    }
   ],
   "source": [
    "with open(\"demo.txt\",\"r\") as f:\n",
    "    print(f.readlines(22))\n",
    "    print(f.readlines())"
   ]
  },
  {
   "cell_type": "code",
   "execution_count": 25,
   "metadata": {},
   "outputs": [
    {
     "name": "stdout",
     "output_type": "stream",
     "text": [
      "23\n",
      "17\n",
      "21\n"
     ]
    }
   ],
   "source": [
    "with open(\"demo.txt\",\"r\") as f:\n",
    "    print(len(f.readline()))\n",
    "    print(len(f.readline()))\n",
    "    print(len(f.readline()))"
   ]
  },
  {
   "cell_type": "code",
   "execution_count": 26,
   "metadata": {},
   "outputs": [
    {
     "name": "stdout",
     "output_type": "stream",
     "text": [
      "61\n"
     ]
    }
   ],
   "source": [
    "with open(\"demo.txt\",\"r\") as f:\n",
    "    print(len(f.read()))"
   ]
  },
  {
   "cell_type": "code",
   "execution_count": 21,
   "metadata": {},
   "outputs": [
    {
     "name": "stdout",
     "output_type": "stream",
     "text": [
      "I am from Surat.\n",
      "\n"
     ]
    }
   ],
   "source": [
    "with open(\"demo.txt\",\"r\") as f:\n",
    "    f.seek(len(f.readline()))\n",
    "    print(f.readline())"
   ]
  },
  {
   "cell_type": "code",
   "execution_count": 36,
   "metadata": {},
   "outputs": [
    {
     "name": "stdout",
     "output_type": "stream",
     "text": [
      "['My name is Jeel patel.\\n', 'I am from Surat.\\n', 'Course :- CSE 2 year.']\n"
     ]
    }
   ],
   "source": [
    "with open(\"demo.txt\",\"r\") as f:\n",
    "    print(f.readlines())"
   ]
  },
  {
   "cell_type": "code",
   "execution_count": 34,
   "metadata": {},
   "outputs": [
    {
     "name": "stdout",
     "output_type": "stream",
     "text": [
      "['I am from Surat.\\n', 'Course :- CSE 2 year.']\n"
     ]
    }
   ],
   "source": [
    "with open(\"demo.txt\",\"r\") as f:\n",
    "    f.seek(len(f.readline()))\n",
    "    print(f.readlines())"
   ]
  },
  {
   "cell_type": "code",
   "execution_count": 38,
   "metadata": {},
   "outputs": [],
   "source": [
    "with open(\"demo.txt\",\"w\") as f:\n",
    "    f.write(\"Jeel Patel\")"
   ]
  },
  {
   "cell_type": "code",
   "execution_count": 40,
   "metadata": {},
   "outputs": [],
   "source": [
    "with open(\"demo.txt\",\"w\") as f:\n",
    "    f.writelines([\"My name is \",\"Jeel Patel\"])"
   ]
  },
  {
   "cell_type": "code",
   "execution_count": 42,
   "metadata": {},
   "outputs": [
    {
     "name": "stdout",
     "output_type": "stream",
     "text": [
      "Enter Name: Jeel \n",
      "Enter Name: Patel\n",
      "Enter Name: from Surat\n"
     ]
    }
   ],
   "source": [
    "with open(\"demo.txt\",\"w\") as f:\n",
    "    for i in range(3):\n",
    "        n = input(\"Enter Name: \")\n",
    "        f.write(n)\n",
    "        f.write(\"\\n\")"
   ]
  },
  {
   "cell_type": "code",
   "execution_count": 48,
   "metadata": {},
   "outputs": [],
   "source": [
    "list1=[\"Jan\",\"Feb\",\"Mar\",\"Api\",\"May\",\"Jun\",\"Jul\",\"Aug\",\"Sub\",\"Oct\",\"Nov\",\"Dec\"]\n",
    "with open(\"month.txt\",\"w\") as f:\n",
    "    for i in list1:\n",
    "        f.write(i)\n",
    "        f.write(\"\\n\")"
   ]
  },
  {
   "cell_type": "code",
   "execution_count": 67,
   "metadata": {},
   "outputs": [
    {
     "name": "stdout",
     "output_type": "stream",
     "text": [
      "1\n"
     ]
    }
   ],
   "source": [
    "with open(\"demo.txt\",\"r\") as f:\n",
    "    w = f.readline()\n",
    "    for i in w:\n",
    "        sc = 0\n",
    "        sc = sc + 1\n",
    "print(sc)\n"
   ]
  },
  {
   "cell_type": "code",
   "execution_count": 129,
   "metadata": {
    "scrolled": true
   },
   "outputs": [
    {
     "name": "stdout",
     "output_type": "stream",
     "text": [
      "Word 13\n",
      "space 10\n",
      "Charater 40\n",
      "Total Charater: 52\n"
     ]
    }
   ],
   "source": [
    "file = open(\"demo.txt\",\"r\")\n",
    "\n",
    "f = file.read()\n",
    "\n",
    "x = f.split()\n",
    "print(\"Word\",len(x))\n",
    "\n",
    "sp = f.count(\" \")\n",
    "print(\"space\",sp)\n",
    "\n",
    "c = len(f)\n",
    "r = c - sp - f.count(\"\\n\")\n",
    "\n",
    "print(\"Charater\",r)\n",
    "print(\"Total Charater:\",c)"
   ]
  },
  {
   "cell_type": "code",
   "execution_count": 15,
   "metadata": {},
   "outputs": [],
   "source": [
    "# copy and upper contain one file to anther\n",
    "f1 = open(\"demo.txt\")\n",
    "f2 = open(\"xyz.txt\",\"w\")\n",
    "for file in f1:\n",
    "    f2.write(file.upper())\n",
    "f1.close()\n",
    "f2.close()"
   ]
  },
  {
   "cell_type": "code",
   "execution_count": 19,
   "metadata": {},
   "outputs": [],
   "source": [
    "# One line letter revers\n",
    "f1 = open(\"demo.txt\")\n",
    "f2 = open(\"xyz.txt\",\"w\")\n",
    "for file in f1:\n",
    "    f2.write(file[::-1])\n",
    "f1.close()\n",
    "f2.close()"
   ]
  },
  {
   "cell_type": "code",
   "execution_count": 56,
   "metadata": {},
   "outputs": [],
   "source": [
    "# Whole Contain revers.\n",
    "f1 = open(\"demo.txt\",\"r+\")\n",
    "f2 = open(\"xyz.txt\",\"w+\")\n",
    "l = f1.readlines()\n",
    "for i in l[::-1]:\n",
    "    f2.write(i)\n",
    "f1.seek(0)\n",
    "f1.close()\n",
    "f2.close()\n"
   ]
  },
  {
   "cell_type": "code",
   "execution_count": 58,
   "metadata": {},
   "outputs": [],
   "source": [
    "# Rearrange odd and even line .\n",
    "\n",
    "# 0::2 :- odd\n",
    "# 1::2 :- even\n",
    "\n",
    "f1 = open(\"demo.txt\",\"r+\")\n",
    "f2 = open(\"xyz.txt\",\"w+\")\n",
    "l = f1.readlines()\n",
    "for i in l[0::2]:\n",
    "    f2.write(i)\n",
    "for i in l[1::2]:\n",
    "    f2.write(i)    \n",
    "f1.seek(0)\n",
    "f1.close()\n",
    "f2.close()"
   ]
  },
  {
   "cell_type": "code",
   "execution_count": 1,
   "metadata": {
    "collapsed": true
   },
   "outputs": [
    {
     "name": "stdout",
     "output_type": "stream",
     "text": [
      "Enter Num to read Line: 5\n",
      "1 : Line 1\n",
      "\n",
      "2 : Line 2\n",
      "\n",
      "3 : Line 3\n",
      "\n",
      "4 : Line 4\n",
      "\n",
      "5 : Line 5\n",
      "\n",
      "Press [ Q ] to Exit // Press [ ENTER ] to ream more line: \n",
      "6 : Line 6\n",
      "\n",
      "7 : Line 7\n",
      "\n",
      "8 : Line 8\n",
      "\n",
      "9 : Line 9\n",
      "\n",
      "10 : Line 10\n",
      "\n",
      "Press [ Q ] to Exit // Press [ ENTER ] to ream more line: q\n"
     ]
    }
   ],
   "source": [
    "f1 = open(\"demo.txt\",\"r+\")\n",
    "nl = int(input(\"Enter Num to read Line: \"))\n",
    "for index,line in enumerate(f1,1):\n",
    "    print(index,\":\",line)\n",
    "    if index % nl == 0:\n",
    "        x = input(\"Press [ Q ] to Exit // Press [ ENTER ] to ream more line: \")\n",
    "        if x.lower() == \"q\":\n",
    "            break;\n",
    "        else:\n",
    "            continue;"
   ]
  },
  {
   "cell_type": "code",
   "execution_count": null,
   "metadata": {},
   "outputs": [],
   "source": [
    "f1 = open(\"ABC1.txt\")\n",
    "f2 = open(\"ABC2.txt\")\n",
    "f3 = open(\"ABC3.txt\",\"w\")\n",
    "\n",
    "for file1 in f1:\n",
    "    f1.seek(0)\n",
    "    l1 = f1.read()\n",
    "    f3.write(l1)\n",
    "    \n",
    "for file2 in f2:\n",
    "    f2.seek(0)\n",
    "    l2 = f2.read()\n",
    "    f3.write(l2)\n",
    "    \n",
    "f1.close()\n",
    "f2.close()"
   ]
  },
  {
   "cell_type": "code",
   "execution_count": 63,
   "metadata": {},
   "outputs": [
    {
     "name": "stdout",
     "output_type": "stream",
     "text": [
      "['', '', 'def sum(a,b): ', '    c = a+b', '    print(i) ', '', '']\n"
     ]
    }
   ],
   "source": [
    "# WAP To remove comment lines and copy that file to another files.\n",
    "\n",
    "f1 = open(\"KLM1.txt\")\n",
    "l = f1.readlines()\n",
    "temp = []\n",
    "\n",
    "for i in l:\n",
    "    temp.append(i[:i.find(\"#\")])\n",
    "\n",
    "print(temp)\n",
    "\n",
    "f2 = open(\"KLM2.txt\",\"w+\")\n",
    "for i in temp:\n",
    "    if i != \"\":\n",
    "        f2.writelines(i+\"\\n\")\n",
    "    \n",
    "f1.close()\n",
    "f2.close()"
   ]
  },
  {
   "cell_type": "code",
   "execution_count": 86,
   "metadata": {
    "scrolled": true
   },
   "outputs": [
    {
     "name": "stdout",
     "output_type": "stream",
     "text": [
      "T and t Diffrent is 1 and 9\n",
      "\n",
      "P and p Diffrent is 1 and 13\n",
      "\n",
      "T and t Diffrent is 2 and 9\n",
      "\n",
      "P and p Diffrent is 2 and 13\n",
      "\n"
     ]
    }
   ],
   "source": [
    "# find the diffrent achart \n",
    "f1 = open(\"MNO1.txt\",\"r\")\n",
    "f2 = open(\"MNO2.txt\",\"r\")\n",
    "l1 = f1.readlines()\n",
    "l2 = f2.readlines()\n",
    "for i in range(len(l1)):\n",
    "    if l1[i] == l2[i]:\n",
    "        continue;\n",
    "    else:\n",
    "        for j in range(len(l1[i])):\n",
    "            if l1[i][j] != l2[i][j]:\n",
    "                #print(l1[i][j])\n",
    "                #print(l2[i][j])\n",
    "                c1 = str(l1[i][j])\n",
    "                c2 = str(l2[i][j])\n",
    "                print(c1+\" and \"+c2+\" Diffrent is \"+str(i+1)+\" and \"+str(j+1)+\"\\n\")"
   ]
  },
  {
   "cell_type": "code",
   "execution_count": 2,
   "metadata": {},
   "outputs": [],
   "source": [
    "f1 = open(\"demo.txt\",\"r\")\n",
    "x = f1.read()\n",
    "\n",
    "f2 = open(\"demo1.txt\",\"w\")\n",
    "f2.write(x.replace(\"Python\",\"Java\"))\n",
    "\n",
    "f1.close()\n",
    "f2.close()"
   ]
  },
  {
   "cell_type": "code",
   "execution_count": 4,
   "metadata": {},
   "outputs": [],
   "source": [
    "# Replace lettet\n",
    "\n",
    "f1 = open(\"Replace.txt\",\"r+\")\n",
    "x = f1.read()\n",
    "f1.close()\n",
    "\n",
    "f1 = open(\"Replace.txt\",\"w+\")\n",
    "f1.write(x.replace(\"Java\",\"Python\"))\n",
    "f1.close()"
   ]
  },
  {
   "cell_type": "code",
   "execution_count": 3,
   "metadata": {},
   "outputs": [
    {
     "data": {
      "text/plain": [
       "<function list.count(value, /)>"
      ]
     },
     "execution_count": 3,
     "metadata": {},
     "output_type": "execute_result"
    }
   ],
   "source": [
    "s = [1,2,3]\n",
    "s.count"
   ]
  },
  {
   "cell_type": "code",
   "execution_count": null,
   "metadata": {},
   "outputs": [],
   "source": []
  },
  {
   "cell_type": "code",
   "execution_count": null,
   "metadata": {},
   "outputs": [],
   "source": []
  },
  {
   "cell_type": "code",
   "execution_count": null,
   "metadata": {},
   "outputs": [],
   "source": []
  },
  {
   "cell_type": "code",
   "execution_count": null,
   "metadata": {},
   "outputs": [],
   "source": []
  },
  {
   "cell_type": "code",
   "execution_count": null,
   "metadata": {},
   "outputs": [],
   "source": []
  }
 ],
 "metadata": {
  "kernelspec": {
   "display_name": "Python 3",
   "language": "python",
   "name": "python3"
  },
  "language_info": {
   "codemirror_mode": {
    "name": "ipython",
    "version": 3
   },
   "file_extension": ".py",
   "mimetype": "text/x-python",
   "name": "python",
   "nbconvert_exporter": "python",
   "pygments_lexer": "ipython3",
   "version": "3.10.9"
  },
  "vscode": {
   "interpreter": {
    "hash": "5576747debf951a4018453eb75d974e871b724caded3098f47b67f7ba4c00e7f"
   }
  }
 },
 "nbformat": 4,
 "nbformat_minor": 4
}
