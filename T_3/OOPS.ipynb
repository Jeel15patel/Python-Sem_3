{
 "cells": [
  {
   "cell_type": "code",
   "execution_count": null,
   "metadata": {},
   "outputs": [],
   "source": [
    "# OOPS :- \n",
    "\n",
    "# Class \n",
    "# Object \n",
    "# Abstraction \n",
    "# Encapsulation\n",
    "\n",
    "\n",
    "# Constructor\n",
    "# Deconstructor\n",
    "# Generators"
   ]
  },
  {
   "cell_type": "code",
   "execution_count": 2,
   "metadata": {},
   "outputs": [
    {
     "name": "stdout",
     "output_type": "stream",
     "text": [
      "<__main__.car object at 0x0000013FC5CB4760>\n",
      "Car is ABC Color is Black\n"
     ]
    }
   ],
   "source": [
    "# Constructor\n",
    "\n",
    "class car:\n",
    "    def __init__(self,name,color):\n",
    "        self.name = name\n",
    "        self.color = color\n",
    "        print((self))\n",
    "    \n",
    "    def display(self):\n",
    "        print(\"Car is\",self.name,\"Color is\",self.color)\n",
    "\n",
    "x = car(\"ABC\",\"Black\")\n",
    "x.display()"
   ]
  },
  {
   "cell_type": "code",
   "execution_count": 1,
   "metadata": {},
   "outputs": [],
   "source": [
    "class student:\n",
    "    branch=\"CSE\"\n",
    "    def __init__(self,rollno,name,age):\n",
    "        self.rollno = rollno    # Constructor\n",
    "        self.name = name\n",
    "        self.age = age\n",
    "    \n",
    "    def display(self):   # method\n",
    "        print(\"This is\",self.name,\"from\",self.branch,\"RollNo\",self.rollno,\"and Age is\",self.age)\n",
    "    \n",
    "    def __del__(self):  #  deConstructor\n",
    "        print(\"Object Delet\")"
   ]
  },
  {
   "cell_type": "code",
   "execution_count": 2,
   "metadata": {},
   "outputs": [
    {
     "name": "stdout",
     "output_type": "stream",
     "text": [
      "This is Jeel from CSE RollNo 1 and Age is 20\n",
      "This is Keyur from CSE RollNo 2 and Age is 19\n"
     ]
    },
    {
     "data": {
      "text/plain": [
       "'del s3\\ns3.display()'"
      ]
     },
     "execution_count": 2,
     "metadata": {},
     "output_type": "execute_result"
    }
   ],
   "source": [
    "s1 = student(1,\"Jeel\",20)\n",
    "s2 = student(2,\"Keyur\",19)\n",
    "s3 = student(3,\"ogo\",19)\n",
    "\n",
    "s1.display()\n",
    "s2.display() \n",
    "\"\"\"del s3\n",
    "s3.display()\"\"\""
   ]
  },
  {
   "cell_type": "code",
   "execution_count": 3,
   "metadata": {},
   "outputs": [],
   "source": [
    "class Employes:\n",
    "    def __init__(self,name,age,salary):\n",
    "        self.name = name    # Constructor\n",
    "        self.age = age\n",
    "        self.salary = salary\n",
    "        \n",
    "    def display(self):   # method\n",
    "        print(\"This is\",self.name,\"and Age is\",self.age,\"and Salary is\",self.salary)\n",
    "    \n",
    "    def get_age(self):\n",
    "        return self.age\n",
    "                            # encapculation   #getter #setter\n",
    "    def set_age(self,a):\n",
    "        self.age = a"
   ]
  },
  {
   "cell_type": "code",
   "execution_count": 5,
   "metadata": {},
   "outputs": [
    {
     "name": "stdout",
     "output_type": "stream",
     "text": [
      "21\n",
      "18\n",
      "This is Jeel and Age is 21 and Salary is 100000\n",
      "This is Keyru and Age is 18 and Salary is 100000\n",
      "20\n",
      "19\n",
      "This is Jeel and Age is 20 and Salary is 100000\n",
      "This is Keyru and Age is 19 and Salary is 100000\n"
     ]
    }
   ],
   "source": [
    "emp1 = Employes(\"Jeel\",21,100000)\n",
    "emp2 = Employes(\"Keyru\",18,100000)\n",
    "\n",
    "# predife age\n",
    "print(emp1.get_age())\n",
    "print(emp2.get_age())\n",
    "\n",
    "emp1.display()\n",
    "emp2.display()\n",
    "\n",
    "emp1.set_age(20)\n",
    "emp2.set_age(19)\n",
    "\n",
    "# Update age\n",
    "print(emp1.get_age())\n",
    "print(emp2.get_age())\n",
    "\n",
    "emp1.display()\n",
    "emp2.display()"
   ]
  },
  {
   "cell_type": "code",
   "execution_count": 9,
   "metadata": {},
   "outputs": [
    {
     "name": "stdout",
     "output_type": "stream",
     "text": [
      "10\n",
      "20\n",
      "30\n"
     ]
    }
   ],
   "source": [
    "# Generators\n",
    "\n",
    "def fun():\n",
    "    yield 10\n",
    "    yield 20\n",
    "    yield 30\n",
    "    \n",
    "for i in fun():\n",
    "    print(i)"
   ]
  },
  {
   "cell_type": "code",
   "execution_count": 14,
   "metadata": {},
   "outputs": [
    {
     "name": "stdout",
     "output_type": "stream",
     "text": [
      "1\n",
      "4\n",
      "9\n",
      "16\n",
      "25\n",
      "36\n",
      "49\n",
      "64\n",
      "81\n",
      "100\n"
     ]
    }
   ],
   "source": [
    "def sqare():\n",
    "    i = 1\n",
    "    while True:\n",
    "        yield i * i\n",
    "        i = i + 1\n",
    "for num in sqare():\n",
    "    if num > 100:\n",
    "        break\n",
    "    print(num)"
   ]
  },
  {
   "cell_type": "code",
   "execution_count": 2,
   "metadata": {},
   "outputs": [
    {
     "name": "stdout",
     "output_type": "stream",
     "text": [
      "Jeel Get [80, 42, 54]\n"
     ]
    }
   ],
   "source": [
    "class st:\n",
    "    def __init__(self,name):\n",
    "        self.name = name\n",
    "        self.marks = []\n",
    "        \n",
    "    def entermarks(self):\n",
    "        for i in range(3):\n",
    "            m = int(input(\"Enter Marks %s in subject %d\"%(self.name,i+1)))\n",
    "            self.marks.append(m)\n",
    "    \n",
    "    def display(self):\n",
    "        print(self.name,\"Get\",self.marks)\n",
    "        \n",
    "s1 = st(\"Jeel\")\n",
    "s1.entermarks()\n",
    "s1.display()"
   ]
  },
  {
   "cell_type": "code",
   "execution_count": 9,
   "metadata": {},
   "outputs": [],
   "source": [
    "class BankAccount:\n",
    "    def __init__(self,account,name,balance):\n",
    "        self.account = account\n",
    "        self.name = name \n",
    "        self.balace = balance \n",
    "        \n",
    "    def deposit(self,d):\n",
    "        self.balace += d\n",
    "        \n",
    "    def withdraw(self,w):\n",
    "        if self.balace < w:\n",
    "            print(\"NO Balance\")\n",
    "        else:\n",
    "            self.balace -= w\n",
    "    \n",
    "    def display(self):\n",
    "        print(\"The Account Number is\",self.account)\n",
    "        print(\"The Account Holder Name is\",self.name)\n",
    "        print(\"The Account Balance is\",self.balace)"
   ]
  },
  {
   "cell_type": "code",
   "execution_count": 10,
   "metadata": {},
   "outputs": [
    {
     "name": "stdout",
     "output_type": "stream",
     "text": [
      "The Account Number is 1223235\n",
      "The Account Holder Name is Jeel\n",
      "The Account Balance is 13000\n"
     ]
    }
   ],
   "source": [
    "BA1 = BankAccount(1223235,\"Jeel\",10000)\n",
    "BA1.deposit(5000)\n",
    "BA1.withdraw(2000)\n",
    "BA1.display()"
   ]
  },
  {
   "cell_type": "code",
   "execution_count": null,
   "metadata": {},
   "outputs": [],
   "source": [
    "\"\"\"from abc import ABC\n",
    "class vehicle(ABC):\n",
    "    def wheel(self):\n",
    "        pass\n",
    "    \n",
    "class bick(vehicle):\n",
    "    def wheel(self):\n",
    "        print(\"Bike Hase= Two Wheel\")\n",
    "        \n",
    "class bick(vehicle):\n",
    "    def wheel(self):\n",
    "        print(\"Bike Hase= Two Wheel\")\"\"\""
   ]
  },
  {
   "cell_type": "code",
   "execution_count": null,
   "metadata": {},
   "outputs": [],
   "source": [
    "class ATM:\n",
    "    def __init__(self):\n",
    "        self.pin = \" \"\n",
    "        self.balanc = 10000000\n",
    "        self.menu()\n",
    "        \n",
    "    def menu():\n",
    "        user_input = input(\"How can i help you: \\n Press 1:- Creat PIN \\n Press 2:- Change PIN \\n Press 3:- Ckeck Balance  \\n Press 4:- Withdraw \\n Press5 :- Anykey to exit\")\n",
    "        \n",
    "        if user_input == \"1\":\n",
    "            self.creat_pin()\n",
    "        \n",
    "        if user_input == \"2\":\n",
    "            self.change_pin()\n",
    "            \n",
    "        if user_input == \"3\":\n",
    "            self.ckeckbalance()\n",
    "        \n",
    "        if user_input == \"4\":\n",
    "            self.Withdraw()\n",
    "        \n",
    "        if user_input == \"5\":\n",
    "            self.creatpin()\n",
    "            \n",
    "    def creat_pin(self):\n",
    "        user_pin = input(\"Enter Pin\")\n",
    "        self.pin = user_pin\n",
    "        \n",
    "        user_balance = int(input(\"Enter Balance\"))\n",
    "        self.balanc = user_balance\n",
    "        \n",
    "        self.menu()\n",
    "        \n",
    "    def change_pin(self):\n",
    "        old_pin = input(\"Enter Pin\")\n",
    "        \n",
    "        if old_pin == self.pin:\n",
    "            \n",
    "                    \n",
    "            "
   ]
  },
  {
   "cell_type": "code",
   "execution_count": 8,
   "metadata": {},
   "outputs": [],
   "source": [
    "class string:\n",
    "    def __init__(self):\n",
    "        self.vowel = 0\n",
    "        self.consonants = 0\n",
    "        self.spaces = 0\n",
    "        self.uppercase = 0\n",
    "        self.lowercase = 0\n",
    "        self.string1 = input(\"Enter String:\")\n",
    "    \n",
    "    def count_uppercase(self):\n",
    "        for letter in self.string1:\n",
    "            if letter.isupper():\n",
    "                self.uppercase += 1\n",
    "    \n",
    "    def count_lowercase(self):\n",
    "        for letter in self.string1:\n",
    "            if letter.islower():\n",
    "                self.lowercase += 1\n",
    "    \n",
    "    def count_vowel(self):\n",
    "        for letter in self.string1:\n",
    "            if letter in \"aeiouAEIOU\":\n",
    "                self.vowel += 1\n",
    "                \n",
    "    def count_spaces(self):\n",
    "        for letter in self.string1:\n",
    "            if letter.isspace:\n",
    "                self.spaces += 1\n",
    "                \n",
    "    def count_consonants(self):\n",
    "        for letter in self.string1:\n",
    "            if letter.isalpha and letter not in \"aeiouAEIOU\" :\n",
    "                self.consonants += 1\n",
    "                \n",
    "    def runall(self):\n",
    "        self.count_uppercase()\n",
    "        self.count_lowercase()\n",
    "        self.count_vowel()\n",
    "        self.count_spaces()\n",
    "        self.count_consonants()\n",
    "    \n",
    "    def display(self):\n",
    "        print(\"Uppercase\",self.uppercase)\n",
    "        print(\"lowercase\",self.lowercase)\n",
    "        print(\"Spaces\",self.spaces)\n",
    "        print(\"Vowel\",self.vowel)\n",
    "        print(\"Consonants\",self.consonants)\n"
   ]
  },
  {
   "cell_type": "code",
   "execution_count": 9,
   "metadata": {},
   "outputs": [
    {
     "name": "stdout",
     "output_type": "stream",
     "text": [
      "Uppercase 5\n",
      "lowercase 12\n",
      "Spaces 21\n",
      "Vowel 7\n",
      "Consonants 14\n"
     ]
    }
   ],
   "source": [
    "s1 = string()\n",
    "s1.runall()\n",
    "s1.display()\n"
   ]
  },
  {
   "cell_type": "code",
   "execution_count": 3,
   "metadata": {},
   "outputs": [],
   "source": [
    "class Library:\n",
    "    def __init__(self):\n",
    "        self.title = \" \"\n",
    "        self.author = \" \"\n",
    "        self.publish = \" \"\n",
    "        \n",
    "    def read(self):\n",
    "        self.title = input(\"Enter Title\")\n",
    "        self.author = input(\"Enter Author\")\n",
    "        self.publish = input(\"Enter Publish\")\n",
    "        \n",
    "    def display(self):\n",
    "        my_book = []\n",
    "        ch = \"y\"\n",
    "        \n",
    "        while ch == \"y\":\n",
    "            print(\"1:- Add Book \\n 2:- Display Book\")\n",
    "            choice = int(input(\"Enter Choice\"))\n",
    "            if choice == 1:\n",
    "                book = Library()\n",
    "                book.read()\n",
    "                my_book.append(book)\n",
    "            elif choice == 2:\n",
    "                for i in my_book:\n",
    "                    i.display()\n",
    "                else:\n",
    "                    print(\"IN\")"
   ]
  },
  {
   "cell_type": "code",
   "execution_count": null,
   "metadata": {},
   "outputs": [],
   "source": []
  }
 ],
 "metadata": {
  "kernelspec": {
   "display_name": "Python 3",
   "language": "python",
   "name": "python3"
  },
  "language_info": {
   "codemirror_mode": {
    "name": "ipython",
    "version": 3
   },
   "file_extension": ".py",
   "mimetype": "text/x-python",
   "name": "python",
   "nbconvert_exporter": "python",
   "pygments_lexer": "ipython3",
   "version": "3.10.9"
  },
  "orig_nbformat": 4,
  "vscode": {
   "interpreter": {
    "hash": "5576747debf951a4018453eb75d974e871b724caded3098f47b67f7ba4c00e7f"
   }
  }
 },
 "nbformat": 4,
 "nbformat_minor": 2
}
