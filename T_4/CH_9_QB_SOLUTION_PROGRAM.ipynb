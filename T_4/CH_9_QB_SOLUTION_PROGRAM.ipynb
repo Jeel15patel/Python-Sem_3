{
 "cells": [
  {
   "cell_type": "markdown",
   "metadata": {},
   "source": [
    "## Implement the following hierarchy . The Book function has name, n (number of authors), authors (list of authors), publisher, ISBN, and year as its data members and the derived class has course as its data member. The derived class method overrides (extends) the methods of the base class."
   ]
  },
  {
   "cell_type": "code",
   "execution_count": 1,
   "metadata": {},
   "outputs": [
    {
     "name": "stdout",
     "output_type": "stream",
     "text": [
      "Name: The Great Gatsby\n",
      "Number of authors: 1\n",
      "Authors: F. Scott Fitzgerald\n",
      "Publisher: Scribner\n",
      "ISBN: 9780743273565\n",
      "Year: 1925\n",
      "\n",
      "Name: Data Science from Scratch\n",
      "Number of authors: 1\n",
      "Authors: Joel Grus\n",
      "Publisher: O'Reilly\n",
      "ISBN: 9781492041139\n",
      "Year: 2019\n",
      "Course: Data Science\n"
     ]
    }
   ],
   "source": [
    "class Book:\n",
    "    def __init__(self, name, n, authors, publisher, ISBN, year):\n",
    "        self.name = name\n",
    "        self.n = n\n",
    "        self.authors = authors\n",
    "        self.publisher = publisher\n",
    "        self.ISBN = ISBN\n",
    "        self.year = year\n",
    "    \n",
    "    def display(self):\n",
    "        print(f\"Name: {self.name}\")\n",
    "        print(f\"Number of authors: {self.n}\")\n",
    "        print(f\"Authors: {', '.join(self.authors)}\")\n",
    "        print(f\"Publisher: {self.publisher}\")\n",
    "        print(f\"ISBN: {self.ISBN}\")\n",
    "        print(f\"Year: {self.year}\")\n",
    "\n",
    "\n",
    "class CourseBook(Book):\n",
    "    def __init__(self, name, n, authors, publisher, ISBN, year, course):\n",
    "        super().__init__(name, n, authors, publisher, ISBN, year)\n",
    "        self.course = course\n",
    "    \n",
    "    def display(self):\n",
    "        super().display()\n",
    "        print(f\"Course: {self.course}\")\n",
    "\n",
    "\n",
    "book = Book(\"The Great Gatsby\", 1, [\"F. Scott Fitzgerald\"], \"Scribner\", \"9780743273565\", 1925)\n",
    "book.display()\n",
    "\n",
    "print()\n",
    "\n",
    "course_book = CourseBook(\"Data Science from Scratch\", 1, [\"Joel Grus\"], \"O'Reilly\", \"9781492041139\", 2019, \"Data Science\")\n",
    "course_book.display()\n"
   ]
  },
  {
   "cell_type": "markdown",
   "metadata": {},
   "source": [
    "## Implement the following hierarchy . The Staff function has name and salary as its data members, the derived class Teaching has subject as its data member and the class NonTeaching has department as its data member. The derived class method overrides (extends) the methods of the base class."
   ]
  },
  {
   "cell_type": "code",
   "execution_count": 2,
   "metadata": {},
   "outputs": [
    {
     "name": "stdout",
     "output_type": "stream",
     "text": [
      "Name: John\n",
      "Salary: 50000\n",
      "\n",
      "Name: Jane\n",
      "Salary: 60000\n",
      "Subject: Math\n",
      "\n",
      "Name: Joe\n",
      "Salary: 40000\n",
      "Department: Finance\n"
     ]
    }
   ],
   "source": [
    "class Staff:\n",
    "    def __init__(self, name, salary):\n",
    "        self.name = name\n",
    "        self.salary = salary\n",
    "\n",
    "    def display(self):\n",
    "        print(f\"Name: {self.name}\")\n",
    "        print(f\"Salary: {self.salary}\")\n",
    "\n",
    "class Teaching(Staff):\n",
    "    def __init__(self, name, salary, subject):\n",
    "        super().__init__(name, salary)\n",
    "        self.subject = subject\n",
    "\n",
    "    def display(self):\n",
    "        super().display()\n",
    "        print(f\"Subject: {self.subject}\")\n",
    "\n",
    "class NonTeaching(Staff):\n",
    "    def __init__(self, name, salary, department):\n",
    "        super().__init__(name, salary)\n",
    "        self.department = department\n",
    "\n",
    "    def display(self):\n",
    "        super().display()\n",
    "        print(f\"Department: {self.department}\")\n",
    "staff_member = Staff(\"John\", 50000)\n",
    "teaching_member = Teaching(\"Jane\", 60000, \"Math\")\n",
    "non_teaching_member = NonTeaching(\"Joe\", 40000, \"Finance\")\n",
    "\n",
    "staff_member.display()\n",
    "print()\n",
    "teaching_member.display()\n",
    "print()\n",
    "non_teaching_member.display()"
   ]
  },
  {
   "cell_type": "markdown",
   "metadata": {},
   "source": [
    "## Create a class called Student, having name and email as its data members andm _init_(self, name, email) and putdata(self) as bound methods. The _init_ function should assign the values passed as parameters to the requisite variables. The putdata function should display the data of the student. Create another class called PhDguide having name, email, and students as its data members. Here, the students variable is the list of students under the guide. The PhDguide class should have four bound methods: _init_, putdata, add, and remove. The _init_ method should initialize the variables, the putdata should show the data of the guide, include the list of students, the add method should add a student to the list of students of the guide and the remove function should remove the student (if the student exists in the list of students of that guide) from the list of students."
   ]
  },
  {
   "cell_type": "code",
   "execution_count": 5,
   "metadata": {},
   "outputs": [
    {
     "name": "stdout",
     "output_type": "stream",
     "text": [
      "Name: John Doe\n",
      "Email: johndoe@example.com\n",
      "Name: Jane Smith\n",
      "Email: janesmith@example.com\n",
      "Students: []\n",
      "Name: Jane Smith\n",
      "Email: janesmith@example.com\n",
      "Students: [<__main__.Student object at 0x0000026FCFB731F0>]\n",
      "John Doe has been removed from the list of students.\n",
      "Name: Jane Smith\n",
      "Email: janesmith@example.com\n",
      "Students: []\n"
     ]
    }
   ],
   "source": [
    "class Person:\n",
    "    def __init__(self, name, email):\n",
    "        self.name = name\n",
    "        self.email = email\n",
    "    \n",
    "    def putdata(self):\n",
    "        print(\"Name:\", self.name)\n",
    "        print(\"Email:\", self.email)\n",
    "\n",
    "class Student(Person):\n",
    "    def __init__(self, name, email):\n",
    "        super().__init__(name, email)\n",
    "\n",
    "class PhDguide(Person):\n",
    "    def __init__(self, name, email):\n",
    "        super().__init__(name, email)\n",
    "        self.students = []\n",
    "\n",
    "    def putdata(self):\n",
    "        super().putdata()\n",
    "        print(\"Students:\", self.students)\n",
    "\n",
    "    def add(self, student):\n",
    "        self.students.append(student)\n",
    "\n",
    "    def remove(self, student):\n",
    "        if student in self.students:\n",
    "            self.students.remove(student)\n",
    "            print(f\"{student.name} has been removed from the list of students.\")\n",
    "        else:\n",
    "            print(f\"{student.name} is not in the list of students.\")\n",
    "# Creating a Student object\n",
    "student1 = Student(\"John Doe\", \"johndoe@example.com\")\n",
    "student1.putdata()  # Output: Name: John Doe, Email: johndoe@example.com\n",
    "\n",
    "# Creating a PhDguide object with an empty list of students\n",
    "guide1 = PhDguide(\"Jane Smith\", \"janesmith@example.com\")\n",
    "guide1.putdata()  # Output: Name: Jane Smith, Email: janesmith@example.com, Students: []\n",
    "\n",
    "# Adding the student1 to guide1's list of students\n",
    "guide1.add(student1)\n",
    "guide1.putdata()  # Output: Name: Jane Smith, Email: janesmith@example.com, Students: [Student: John Doe]\n",
    "\n",
    "# Removing the student1 from guide1's list of students\n",
    "guide1.remove(student1)\n",
    "guide1.putdata()  # Output: Name: Jane Smith, Email: janesmith@example.com, Students: []"
   ]
  },
  {
   "cell_type": "markdown",
   "metadata": {},
   "source": [
    "## Write program that has a class point. Define another class location which has two objects (Location and Destination) of class point. Also define function in Location that prints reflection of Destination on the x axis."
   ]
  },
  {
   "cell_type": "code",
   "execution_count": 8,
   "metadata": {},
   "outputs": [
    {
     "name": "stdout",
     "output_type": "stream",
     "text": [
      "Reflected Destination point on X axis: (3, -4)\n"
     ]
    }
   ],
   "source": [
    "class Point:\n",
    "    def __init__(self, x, y):\n",
    "        self.x = x\n",
    "        self.y = y\n",
    "\n",
    "class Location(Point):\n",
    "    def __init__(self, x1, y1, x2, y2):\n",
    "        super().__init__(x1, y1)\n",
    "        self.destination = Destination(x2, y2)\n",
    "\n",
    "    def reflect_destination_on_x_axis(self):\n",
    "        self.destination.y = -self.destination.y\n",
    "        print(\"Reflected Destination point on X axis: ({}, {})\".format(self.destination.x, self.destination.y))\n",
    "class Destination(Point):\n",
    "    pass\n",
    "\n",
    "# Example usage\n",
    "l = Location(1, 2, 3, 4)\n",
    "l.reflect_destination_on_x_axis() # prints (3, -4)\n"
   ]
  },
  {
   "cell_type": "markdown",
   "metadata": {},
   "source": [
    "## Write program that has classes such as Student, Course and Department. Enroll astudent in a course of particular department"
   ]
  },
  {
   "cell_type": "code",
   "execution_count": 9,
   "metadata": {},
   "outputs": [
    {
     "name": "stdout",
     "output_type": "stream",
     "text": [
      "Math with roll no. 101 has enrolled for Calculus in Math department.\n"
     ]
    }
   ],
   "source": [
    "class Department:\n",
    "    def __init__(self, name):\n",
    "        self.name = name\n",
    "\n",
    "class Course(Department):\n",
    "    def __init__(self, name, department):\n",
    "        super().__init__(department)\n",
    "        self.course_name = name\n",
    "\n",
    "class Student:\n",
    "    def __init__(self, name, roll_no):\n",
    "        self.name = name\n",
    "        self.roll_no = roll_no\n",
    "\n",
    "class Enroll(Student, Course):\n",
    "    def __init__(self, name, roll_no, course_name, department):\n",
    "        Student.__init__(self, name, roll_no)\n",
    "        Course.__init__(self, course_name, department)\n",
    "\n",
    "    def get_enrolled(self):\n",
    "        print(f\"{self.name} with roll no. {self.roll_no} has enrolled for {self.course_name} in {self.name} department.\")\n",
    "enrollment = Enroll(\"Alice\", 101, \"Calculus\", \"Math\")\n",
    "enrollment.get_enrolled()"
   ]
  },
  {
   "cell_type": "markdown",
   "metadata": {},
   "source": [
    "## Create a class student with following member attributes: roll no, name, age and total marks. Create suitable methods for reading and printing member variables. Write a python program to overload ‘==’ operator to print the details of students having same marks."
   ]
  },
  {
   "cell_type": "code",
   "execution_count": 10,
   "metadata": {},
   "outputs": [
    {
     "name": "stdout",
     "output_type": "stream",
     "text": [
      "John and Mary do not have the same marks.\n"
     ]
    }
   ],
   "source": [
    "class Student:\n",
    "    def __init__(self, roll_no, name, age, total_marks):\n",
    "        self.roll_no = roll_no\n",
    "        self.name = name\n",
    "        self.age = age\n",
    "        self.total_marks = total_marks\n",
    "\n",
    "    def display_student_info(self):\n",
    "        print(f\"Roll No: {self.roll_no}\")\n",
    "        print(f\"Name: {self.name}\")\n",
    "        print(f\"Age: {self.age}\")\n",
    "        print(f\"Total Marks: {self.total_marks}\")\n",
    "\n",
    "    def __eq__(self, other):\n",
    "        if isinstance(other, Student):\n",
    "            return self.total_marks == other.total_marks\n",
    "        return False\n",
    "# create two student objects\n",
    "s1 = Student(1, \"John\", 20, 90)\n",
    "s2 = Student(2, \"Mary\", 21, 80)\n",
    "\n",
    "# compare the students based on their total marks\n",
    "if s1 == s2:\n",
    "    print(f\"{s1.name} and {s2.name} have the same marks!\")\n",
    "else:\n",
    "    print(f\"{s1.name} and {s2.name} do not have the same marks.\")"
   ]
  },
  {
   "cell_type": "markdown",
   "metadata": {},
   "source": [
    "## Write a program to create a class called Data having “value” as its data member. Overload the (>) and the (<) operator for the class. Instantiate the class and compare the objects using _lt_ and _gt_."
   ]
  },
  {
   "cell_type": "code",
   "execution_count": 11,
   "metadata": {},
   "outputs": [
    {
     "name": "stdout",
     "output_type": "stream",
     "text": [
      "False\n",
      "True\n",
      "False\n",
      "True\n"
     ]
    }
   ],
   "source": [
    "class Data:\n",
    "    def __init__(self, value):\n",
    "        self.value = value\n",
    "\n",
    "    def __lt__(self, other):\n",
    "        return self.value < other.value\n",
    "\n",
    "    def __gt__(self, other):\n",
    "        return self.value > other.value\n",
    "\n",
    "# Testing the Data class\n",
    "d1 = Data(10)\n",
    "d2 = Data(20)\n",
    "d3 = Data(15)\n",
    "\n",
    "print(d1 > d2) # False\n",
    "print(d2 > d3) # True\n",
    "print(d3 < d1) # False\n",
    "print(d3 < d2) # True\n"
   ]
  },
  {
   "cell_type": "markdown",
   "metadata": {},
   "source": [
    "## The following illustration creates a class called data. If no argument is passed while instantiating the class a false is returned, otherwise a true is returned."
   ]
  },
  {
   "cell_type": "code",
   "execution_count": 15,
   "metadata": {},
   "outputs": [
    {
     "name": "stdout",
     "output_type": "stream",
     "text": [
      "status: False\n",
      "status: True\n"
     ]
    }
   ],
   "source": [
    "class Data:\n",
    "    def __init__(self, value=None):\n",
    "        if value:\n",
    "            self.value = value\n",
    "            self.status = True\n",
    "        else:\n",
    "            self.status = False\n",
    "    \n",
    "    def __str__(self):\n",
    "        return f\"status: {self.status}\"\n",
    "data_obj1 = Data()\n",
    "print(data_obj1)\n",
    "# Output: status: False\n",
    "\n",
    "data_obj2 = Data(10)\n",
    "print(data_obj2)\n",
    "# Output: status: True"
   ]
  }
 ],
 "metadata": {
  "kernelspec": {
   "display_name": "Python 3",
   "language": "python",
   "name": "python3"
  },
  "language_info": {
   "codemirror_mode": {
    "name": "ipython",
    "version": 3
   },
   "file_extension": ".py",
   "mimetype": "text/x-python",
   "name": "python",
   "nbconvert_exporter": "python",
   "pygments_lexer": "ipython3",
   "version": "3.8.5"
  }
 },
 "nbformat": 4,
 "nbformat_minor": 5
}
